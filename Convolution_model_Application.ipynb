{
 "cells": [
  {
   "cell_type": "markdown",
   "metadata": {},
   "source": [
    "# Convolutional Neural Networks: Application\n",
    "\n",
    "Welcome to Course 4's second assignment! In this notebook, you will:\n",
    "\n",
    "- Create a mood classifer using the TF Keras Sequential API\n",
    "- Build a ConvNet to identify sign language digits using the TF Keras Functional API\n",
    "\n",
    "**After this assignment you will be able to:**\n",
    "\n",
    "- Build and train a ConvNet in TensorFlow for a __binary__ classification problem\n",
    "- Build and train a ConvNet in TensorFlow for a __multiclass__ classification problem\n",
    "- Explain different use cases for the Sequential and Functional APIs\n",
    "\n",
    "To complete this assignment, you should already be familiar with TensorFlow. If you are not, please refer back to the **TensorFlow Tutorial** of the third week of Course 2 (\"**Improving deep neural networks**\").\n",
    "\n",
    "## Important Note on Submission to the AutoGrader\n",
    "\n",
    "Before submitting your assignment to the AutoGrader, please make sure you are not doing the following:\n",
    "\n",
    "1. You have not added any _extra_ `print` statement(s) in the assignment.\n",
    "2. You have not added any _extra_ code cell(s) in the assignment.\n",
    "3. You have not changed any of the function parameters.\n",
    "4. You are not using any global variables inside your graded exercises. Unless specifically instructed to do so, please refrain from it and use the local variables instead.\n",
    "5. You are not changing the assignment code where it is not required, like creating _extra_ variables.\n",
    "\n",
    "If you do any of the following, you will get something like, `Grader not found` (or similarly unexpected) error upon submitting your assignment. Before asking for help/debugging the errors in your assignment, check for these first. If this is the case, and you don't remember the changes you have made, you can get a fresh copy of the assignment by following these [instructions](https://www.coursera.org/learn/convolutional-neural-networks/supplement/DS4yP/h-ow-to-refresh-your-workspace)."
   ]
  },
  {
   "cell_type": "markdown",
   "metadata": {},
   "source": [
    "## Table of Contents\n",
    "\n",
    "- [1 - Packages](#1)\n",
    "    - [1.1 - Load the Data and Split the Data into Train/Test Sets](#1-1)\n",
    "- [2 - Layers in TF Keras](#2)\n",
    "- [3 - The Sequential API](#3)\n",
    "    - [3.1 - Create the Sequential Model](#3-1)\n",
    "        - [Exercise 1 - happyModel](#ex-1)\n",
    "    - [3.2 - Train and Evaluate the Model](#3-2)\n",
    "- [4 - The Functional API](#4)\n",
    "    - [4.1 - Load the SIGNS Dataset](#4-1)\n",
    "    - [4.2 - Split the Data into Train/Test Sets](#4-2)\n",
    "    - [4.3 - Forward Propagation](#4-3)\n",
    "        - [Exercise 2 - convolutional_model](#ex-2)\n",
    "    - [4.4 - Train the Model](#4-4)\n",
    "- [5 - History Object](#5)\n",
    "- [6 - Bibliography](#6)"
   ]
  },
  {
   "cell_type": "markdown",
   "metadata": {},
   "source": [
    "<a name='1'></a>\n",
    "## 1 - Packages\n",
    "\n",
    "As usual, begin by loading in the packages."
   ]
  },
  {
   "cell_type": "code",
   "execution_count": 1,
   "metadata": {},
   "outputs": [],
   "source": [
    "import math\n",
    "import numpy as np\n",
    "import h5py\n",
    "import matplotlib.pyplot as plt\n",
    "from matplotlib.pyplot import imread\n",
    "import scipy\n",
    "from PIL import Image\n",
    "import pandas as pd\n",
    "import tensorflow as tf\n",
    "import tensorflow.keras.layers as tfl\n",
    "from tensorflow.python.framework import ops\n",
    "from cnn_utils import *\n",
    "from test_utils import summary, comparator\n",
    "\n",
    "%matplotlib inline\n",
    "np.random.seed(1)"
   ]
  },
  {
   "cell_type": "markdown",
   "metadata": {},
   "source": [
    "<a name='1-1'></a>\n",
    "### 1.1 - Load the Data and Split the Data into Train/Test Sets\n",
    "\n",
    "You'll be using the Happy House dataset for this part of the assignment, which contains images of peoples' faces. Your task will be to build a ConvNet that determines whether the people in the images are smiling or not -- because they only get to enter the house if they're smiling!  "
   ]
  },
  {
   "cell_type": "code",
   "execution_count": 2,
   "metadata": {},
   "outputs": [
    {
     "name": "stdout",
     "output_type": "stream",
     "text": [
      "number of training examples = 600\n",
      "number of test examples = 150\n",
      "X_train shape: (600, 64, 64, 3)\n",
      "Y_train shape: (600, 1)\n",
      "X_test shape: (150, 64, 64, 3)\n",
      "Y_test shape: (150, 1)\n"
     ]
    }
   ],
   "source": [
    "X_train_orig, Y_train_orig, X_test_orig, Y_test_orig, classes = load_happy_dataset()\n",
    "\n",
    "# Normalize image vectors\n",
    "X_train = X_train_orig/255.\n",
    "X_test = X_test_orig/255.\n",
    "\n",
    "# Reshape\n",
    "Y_train = Y_train_orig.T\n",
    "Y_test = Y_test_orig.T\n",
    "\n",
    "print (\"number of training examples = \" + str(X_train.shape[0]))\n",
    "print (\"number of test examples = \" + str(X_test.shape[0]))\n",
    "print (\"X_train shape: \" + str(X_train.shape))\n",
    "print (\"Y_train shape: \" + str(Y_train.shape))\n",
    "print (\"X_test shape: \" + str(X_test.shape))\n",
    "print (\"Y_test shape: \" + str(Y_test.shape))"
   ]
  },
  {
   "cell_type": "markdown",
   "metadata": {},
   "source": [
    "You can display the images contained in the dataset. Images are **64x64** pixels in RGB format (3 channels)."
   ]
  },
  {
   "cell_type": "code",
   "execution_count": 3,
   "metadata": {},
   "outputs": [
    {
     "data": {
      "image/png": "[encoded data removed]",
      "text/plain": [
       "<Figure size 432x288 with 1 Axes>"
      ]
     },
     "metadata": {
      "needs_background": "light"
     },
     "output_type": "display_data"
    }
   ],
   "source": [
    "index = 124\n",
    "plt.imshow(X_train_orig[index]) #display sample training image\n",
    "plt.show()"
   ]
  },
  {
   "cell_type": "markdown",
   "metadata": {},
   "source": [
    "<a name='2'></a>\n",
    "## 2 - Layers in TF Keras \n",
    "\n",
    "In the previous assignment, you created layers manually in numpy. In TF Keras, you don't have to write code directly to create layers. Rather, TF Keras has pre-defined layers you can use. \n",
    "\n",
    "When you create a layer in TF Keras, you are creating a function that takes some input and transforms it into an output you can reuse later. Nice and easy! "
   ]
  },
  {
   "cell_type": "markdown",
   "metadata": {},
   "source": [
    "<a name='3'></a>\n",
    "## 3 - The Sequential API\n",
    "\n",
    "In the previous assignment, you built helper functions using `numpy` to understand the mechanics behind convolutional neural networks. Most practical applications of deep learning today are built using programming frameworks, which have many built-in functions you can simply call. Keras is a high-level abstraction built on top of TensorFlow, which allows for even more simplified and optimized model creation and training. \n",
    "\n",
    "For the first part of this assignment, you'll create a model using TF Keras' Sequential API, which allows you to build layer by layer, and is ideal for building models where each layer has **exactly one** input tensor and **one** output tensor. \n",
    "\n",
    "As you'll see, using the Sequential API is simple and straightforward, but is only appropriate for simpler, more straightforward tasks. Later in this notebook you'll spend some time building with a more flexible, powerful alternative: the Functional API. \n",
    " "
   ]
  },
  {
   "cell_type": "markdown",
   "metadata": {},
   "source": [
    "<a name='3-1'></a>\n",
    "### 3.1 - Create the Sequential Model\n",
    "\n",
    "As mentioned earlier, the TensorFlow Keras Sequential API can be used to build simple models with layer operations that proceed in a sequential order. \n",
    "\n",
    "You can also add layers incrementally to a Sequential model with the `.add()` method, or remove them using the `.pop()` method, much like you would in a regular Python list.\n",
    "\n",
    "Actually, you can think of a Sequential model as behaving like a list of layers. Like Python lists, Sequential layers are ordered, and the order in which they are specified matters.  If your model is non-linear or contains layers with multiple inputs or outputs, a Sequential model wouldn't be the right choice!\n",
    "\n",
    "For any layer construction in Keras, you'll need to specify the input shape in advance. This is because in Keras, the shape of the weights is based on the shape of the inputs. The weights are only created when the model first sees some input data. Sequential models can be created by passing a list of layers to the Sequential constructor, like you will do in the next assignment.\n",
    "\n",
    "<a name='ex-1'></a>\n",
    "### Exercise 1 - happyModel\n",
    "\n",
    "Implement the `happyModel` function below to build the following model: `ZEROPAD2D -> CONV2D -> BATCHNORM -> RELU -> MAXPOOL -> FLATTEN -> DENSE`. Take help from [tf.keras.layers](https://www.tensorflow.org/api_docs/python/tf/keras/layers) \n",
    "\n",
    "Also, plug in the following parameters for all the steps:\n",
    "\n",
    " - [ZeroPadding2D](https://www.tensorflow.org/api_docs/python/tf/keras/layers/ZeroPadding2D): padding 3, input shape 64 x 64 x 3\n",
    " - [Conv2D](https://www.tensorflow.org/api_docs/python/tf/keras/layers/Conv2D): Use 32 7x7 filters, stride 1\n",
    " - [BatchNormalization](https://www.tensorflow.org/api_docs/python/tf/keras/layers/BatchNormalization): for axis 3\n",
    " - [ReLU](https://www.tensorflow.org/api_docs/python/tf/keras/layers/ReLU)\n",
    " - [MaxPool2D](https://www.tensorflow.org/api_docs/python/tf/keras/layers/MaxPool2D): Using default parameters\n",
    " - [Flatten](https://www.tensorflow.org/api_docs/python/tf/keras/layers/Flatten) the previous output.\n",
    " - Fully-connected ([Dense](https://www.tensorflow.org/api_docs/python/tf/keras/layers/Dense)) layer: Apply a fully connected layer with 1 neuron and a sigmoid activation. \n",
    " \n",
    " \n",
    " **Hint:**\n",
    " \n",
    " Use **tfl** as shorthand for **tensorflow.keras.layers**"
   ]
  },
  {
   "cell_type": "code",
   "execution_count": 4,
   "metadata": {
    "deletable": false,
    "nbgrader": {
     "cell_type": "code",
     "checksum": "95d28b191f257bdd5b70c7b8952559d5",
     "grade": false,
     "grade_id": "cell-0e56d3fc28b69aec",
     "locked": false,
     "schema_version": 3,
     "solution": true,
     "task": false
    }
   },
   "outputs": [],
   "source": [
    "# GRADED FUNCTION: happyModel\n",
    "\n",
    "def happyModel():\n",
    "    \"\"\"\n",
    "    Implements the forward propagation for the binary classification model:\n",
    "    ZEROPAD2D -> CONV2D -> BATCHNORM -> RELU -> MAXPOOL -> FLATTEN -> DENSE\n",
    "    \n",
    "    Note that for simplicity and grading purposes, you'll hard-code all the values\n",
    "    such as the stride and kernel (filter) sizes. \n",
    "    Normally, functions should take these values as function parameters.\n",
    "    \n",
    "    Arguments:\n",
    "    None\n",
    "\n",
    "    Returns:\n",
    "    model -- TF Keras model (object containing the information for the entire training process) \n",
    "    \"\"\"\n",
    "    model = tf.keras.Sequential([\n",
    "        \n",
    "            ## ZeroPadding2D with padding 3, input shape of 64 x 64 x 3\n",
    "            tf.keras.layers.ZeroPadding2D(padding=(3,3), input_shape=(64,64,3)),\n",
    "\n",
    "                ## Conv2D with 32 7x7 filters and stride of 1\n",
    "            tf.keras.layers.Conv2D(filters=32, strides=(1,1), kernel_size=(7,7)),\n",
    "\n",
    "                ## BatchNormalization for axis 3\n",
    "            tf.keras.layers.BatchNormalization(axis=3),\n",
    "\n",
    "                ## ReLU\n",
    "            tf.keras.layers.ReLU(),\n",
    "\n",
    "                ## Max Pooling 2D with default parameters\n",
    "            tf.keras.layers.MaxPool2D(),\n",
    "\n",
    "                ## Flatten layer\n",
    "            tf.keras.layers.Flatten(),\n",
    "\n",
    "                ## Dense layer with 1 unit for output & 'sigmoid' activation\n",
    "            tf.keras.layers.Dense(activation= 'sigmoid', units=1)\n",
    "            # YOUR CODE STARTS HERE\n",
    "            \n",
    "            \n",
    "            # YOUR CODE ENDS HERE\n",
    "        ])\n",
    "    \n",
    "    return model"
   ]
  },
  {
   "cell_type": "code",
   "execution_count": 5,
   "metadata": {
    "deletable": false,
    "editable": false,
    "nbgrader": {
     "cell_type": "code",
     "checksum": "8d3575c950e2e78149be2d05d671c80d",
     "grade": true,
     "grade_id": "cell-e3e1046e5c33d775",
     "locked": true,
     "points": 10,
     "schema_version": 3,
     "solution": false,
     "task": false
    }
   },
   "outputs": [
    {
     "name": "stdout",
     "output_type": "stream",
     "text": [
      "['ZeroPadding2D', (None, 70, 70, 3), 0, ((3, 3), (3, 3))]\n",
      "['Conv2D', (None, 64, 64, 32), 4736, 'valid', 'linear', 'GlorotUniform']\n",
      "['BatchNormalization', (None, 64, 64, 32), 128]\n",
      "['ReLU', (None, 64, 64, 32), 0]\n",
      "['MaxPooling2D', (None, 32, 32, 32), 0, (2, 2), (2, 2), 'valid']\n",
      "['Flatten', (None, 32768), 0]\n",
      "['Dense', (None, 1), 32769, 'sigmoid']\n",
      "\u001b[32mAll tests passed!\u001b[0m\n"
     ]
    }
   ],
   "source": [
    "happy_model = happyModel()\n",
    "# Print a summary for each layer\n",
    "for layer in summary(happy_model):\n",
    "    print(layer)\n",
    "    \n",
    "output = [['ZeroPadding2D', (None, 70, 70, 3), 0, ((3, 3), (3, 3))],\n",
    "            ['Conv2D', (None, 64, 64, 32), 4736, 'valid', 'linear', 'GlorotUniform'],\n",
    "            ['BatchNormalization', (None, 64, 64, 32), 128],\n",
    "            ['ReLU', (None, 64, 64, 32), 0],\n",
    "            ['MaxPooling2D', (None, 32, 32, 32), 0, (2, 2), (2, 2), 'valid'],\n",
    "            ['Flatten', (None, 32768), 0],\n",
    "            ['Dense', (None, 1), 32769, 'sigmoid']]\n",
    "    \n",
    "comparator(summary(happy_model), output)"
   ]
  },
  {
   "cell_type": "markdown",
   "metadata": {},
   "source": [
    "Now that your model is created, you can compile it for training with an optimizer and loss of your choice. When the string `accuracy` is specified as a metric, the type of accuracy used will be automatically converted based on the loss function used. This is one of the many optimizations built into TensorFlow that make your life easier! If you'd like to read more on how the compiler operates, check the docs [here](https://www.tensorflow.org/api_docs/python/tf/keras/Model#compile)."
   ]
  },
  {
   "cell_type": "code",
   "execution_count": 6,
   "metadata": {},
   "outputs": [],
   "source": [
    "happy_model.compile(optimizer='adam',\n",
    "                   loss='binary_crossentropy',\n",
    "                   metrics=['accuracy'])"
   ]
  },
  {
   "cell_type": "markdown",
   "metadata": {},
   "source": [
    "It's time to check your model's parameters with the `.summary()` method. This will display the types of layers you have, the shape of the outputs, and how many parameters are in each layer. "
   ]
  },
  {
   "cell_type": "code",
   "execution_count": 7,
   "metadata": {},
   "outputs": [
    {
     "name": "stdout",
     "output_type": "stream",
     "text": [
      "Model: \"sequential\"\n",
      "_________________________________________________________________\n",
      "Layer (type)                 Output Shape              Param #   \n",
      "=================================================================\n",
      "zero_padding2d (ZeroPadding2 (None, 70, 70, 3)         0         \n",
      "_________________________________________________________________\n",
      "conv2d (Conv2D)              (None, 64, 64, 32)        4736      \n",
      "_________________________________________________________________\n",
      "batch_normalization (BatchNo (None, 64, 64, 32)        128       \n",
      "_________________________________________________________________\n",
      "re_lu (ReLU)                 (None, 64, 64, 32)        0         \n",
      "_________________________________________________________________\n",
      "max_pooling2d (MaxPooling2D) (None, 32, 32, 32)        0         \n",
      "_________________________________________________________________\n",
      "flatten (Flatten)            (None, 32768)             0         \n",
      "_________________________________________________________________\n",
      "dense (Dense)                (None, 1)                 32769     \n",
      "=================================================================\n",
      "Total params: 37,633\n",
      "Trainable params: 37,569\n",
      "Non-trainable params: 64\n",
      "_________________________________________________________________\n"
     ]
    }
   ],
   "source": [
    "happy_model.summary()"
   ]
  },
  {
   "cell_type": "markdown",
   "metadata": {},
   "source": [
    "<a name='3-2'></a>\n",
    "### 3.2 - Train and Evaluate the Model\n",
    "\n",
    "After creating the model, compiling it with your choice of optimizer and loss function, and doing a sanity check on its contents, you are now ready to build! \n",
    "\n",
    "Simply call `.fit()` to train. That's it! No need for mini-batching, saving, or complex backpropagation computations. That's all been done for you, as you're using a TensorFlow dataset with the batches specified already. You do have the option to specify epoch number or minibatch size if you like (for example, in the case of an un-batched dataset)."
   ]
  },
  {
   "cell_type": "code",
   "execution_count": 8,
   "metadata": {},
   "outputs": [
    {
     "name": "stdout",
     "output_type": "stream",
     "text": [
      "Epoch 1/10\n",
      "38/38 [==============================] - 4s 105ms/step - loss: 0.8985 - accuracy: 0.7450\n",
      "Epoch 2/10\n",
      "38/38 [==============================] - 4s 97ms/step - loss: 0.2275 - accuracy: 0.9050\n",
      "Epoch 3/10\n",
      "38/38 [==============================] - 4s 97ms/step - loss: 0.1318 - accuracy: 0.9567\n",
      "Epoch 4/10\n",
      "38/38 [==============================] - 4s 98ms/step - loss: 0.1841 - accuracy: 0.9233\n",
      "Epoch 5/10\n",
      "38/38 [==============================] - 4s 97ms/step - loss: 0.0919 - accuracy: 0.9717\n",
      "Epoch 6/10\n",
      "38/38 [==============================] - 4s 97ms/step - loss: 0.0753 - accuracy: 0.9800\n",
      "Epoch 7/10\n",
      "38/38 [==============================] - 4s 97ms/step - loss: 0.0858 - accuracy: 0.9633\n",
      "Epoch 8/10\n",
      "38/38 [==============================] - 4s 100ms/step - loss: 0.0539 - accuracy: 0.9883\n",
      "Epoch 9/10\n",
      "38/38 [==============================] - 4s 97ms/step - loss: 0.0378 - accuracy: 0.9883\n",
      "Epoch 10/10\n",
      "38/38 [==============================] - 4s 97ms/step - loss: 0.1451 - accuracy: 0.9450\n"
     ]
    },
    {
     "data": {
      "text/plain": [
       "<tensorflow.python.keras.callbacks.History at 0x7f9c282d5110>"
      ]
     },
     "execution_count": 8,
     "metadata": {},
     "output_type": "execute_result"
    }
   ],
   "source": [
    "happy_model.fit(X_train, Y_train, epochs=10, batch_size=16)"
   ]
  },
  {
   "cell_type": "markdown",
   "metadata": {},
   "source": [
    "After that completes, just use `.evaluate()` to evaluate against your test set. This function will print the value of the loss function and the performance metrics specified during the compilation of the model. In this case, the `binary_crossentropy` and the `accuracy` respectively."
   ]
  },
  {
   "cell_type": "code",
   "execution_count": 9,
   "metadata": {},
   "outputs": [
    {
     "name": "stdout",
     "output_type": "stream",
     "text": [
      "5/5 [==============================] - 0s 33ms/step - loss: 1.2128 - accuracy: 0.7200\n"
     ]
    },
    {
     "data": {
      "text/plain": [
       "[1.2127985954284668, 0.7200000286102295]"
      ]
     },
     "execution_count": 9,
     "metadata": {},
     "output_type": "execute_result"
    }
   ],
   "source": [
    "happy_model.evaluate(X_test, Y_test)"
   ]
  },
  {
   "cell_type": "markdown",
   "metadata": {},
   "source": [
    "Easy, right? But what if you need to build a model with shared layers, branches, or multiple inputs and outputs? This is where Sequential, with its beautifully simple yet limited functionality, won't be able to help you. \n",
    "\n",
    "Next up: Enter the Functional API, your slightly more complex, highly flexible friend.  "
   ]
  },
  {
   "cell_type": "markdown",
   "metadata": {},
   "source": [
    "<a name='4'></a>\n",
    "## 4 - The Functional API"
   ]
  },
  {
   "cell_type": "markdown",
   "metadata": {},
   "source": [
    "Welcome to the second half of the assignment, where you'll use Keras' flexible [Functional API](https://www.tensorflow.org/guide/keras/functional) to build a ConvNet that can differentiate between 6 sign language digits. \n",
    "\n",
    "The Functional API can handle models with non-linear topology, shared layers, as well as layers with multiple inputs or outputs. Imagine that, where the Sequential API requires the model to move in a linear fashion through its layers, the Functional API allows much more flexibility. Where Sequential is a straight line, a Functional model is a graph, where the nodes of the layers can connect in many more ways than one. \n",
    "\n",
    "In the visual example below, the one possible direction of the movement Sequential model is shown in contrast to a skip connection, which is just one of the many ways a Functional model can be constructed. A skip connection, as you might have guessed, skips some layer in the network and feeds the output to a later layer in the network. Don't worry, you'll be spending more time with skip connections very soon! "
   ]
  },
  {
   "cell_type": "markdown",
   "metadata": {},
   "source": [
    "<img src=\"images/seq_vs_func.png\" style=\"width:350px;height:200px;\">"
   ]
  },
  {
   "cell_type": "markdown",
   "metadata": {},
   "source": [
    "<a name='4-1'></a>\n",
    "### 4.1 - Load the SIGNS Dataset\n",
    "\n",
    "As a reminder, the SIGNS dataset is a collection of 6 signs representing numbers from 0 to 5."
   ]
  },
  {
   "cell_type": "code",
   "execution_count": 10,
   "metadata": {},
   "outputs": [],
   "source": [
    "# Loading the data (signs)\n",
    "X_train_orig, Y_train_orig, X_test_orig, Y_test_orig, classes = load_signs_dataset()"
   ]
  },
  {
   "cell_type": "markdown",
   "metadata": {},
   "source": [
    "<img src=\"images/SIGNS.png\" style=\"width:800px;height:300px;\">\n",
    "\n",
    "The next cell will show you an example of a labelled image in the dataset. Feel free to change the value of `index` below and re-run to see different examples. "
   ]
  },
  {
   "cell_type": "code",
   "execution_count": 11,
   "metadata": {},
   "outputs": [
    {
     "name": "stdout",
     "output_type": "stream",
     "text": [
      "y = 4\n"
     ]
    },
    {
     "data": {
      "image/png": "[encoded data removed]",
      "text/plain": [
       "<Figure size 432x288 with 1 Axes>"
      ]
     },
     "metadata": {
      "needs_background": "light"
     },
     "output_type": "display_data"
    }
   ],
   "source": [
    "# Example of an image from the dataset\n",
    "index = 9\n",
    "plt.imshow(X_train_orig[index])\n",
    "print (\"y = \" + str(np.squeeze(Y_train_orig[:, index])))"
   ]
  },
  {
   "cell_type": "markdown",
   "metadata": {},
   "source": [
    "<a name='4-2'></a>\n",
    "### 4.2 - Split the Data into Train/Test Sets\n",
    "\n",
    "In Course 2, you built a fully-connected network for this dataset. But since this is an image dataset, it is more natural to apply a ConvNet to it.\n",
    "\n",
    "To get started, let's examine the shapes of your data. "
   ]
  },
  {
   "cell_type": "code",
   "execution_count": 12,
   "metadata": {},
   "outputs": [
    {
     "name": "stdout",
     "output_type": "stream",
     "text": [
      "number of training examples = 1080\n",
      "number of test examples = 120\n",
      "X_train shape: (1080, 64, 64, 3)\n",
      "Y_train shape: (1080, 6)\n",
      "X_test shape: (120, 64, 64, 3)\n",
      "Y_test shape: (120, 6)\n"
     ]
    }
   ],
   "source": [
    "X_train = X_train_orig/255.\n",
    "X_test = X_test_orig/255.\n",
    "Y_train = convert_to_one_hot(Y_train_orig, 6).T\n",
    "Y_test = convert_to_one_hot(Y_test_orig, 6).T\n",
    "print (\"number of training examples = \" + str(X_train.shape[0]))\n",
    "print (\"number of test examples = \" + str(X_test.shape[0]))\n",
    "print (\"X_train shape: \" + str(X_train.shape))\n",
    "print (\"Y_train shape: \" + str(Y_train.shape))\n",
    "print (\"X_test shape: \" + str(X_test.shape))\n",
    "print (\"Y_test shape: \" + str(Y_test.shape))"
   ]
  },
  {
   "cell_type": "markdown",
   "metadata": {},
   "source": [
    "<a name='4-3'></a>\n",
    "### 4.3 - Forward Propagation\n",
    "\n",
    "In TensorFlow, there are built-in functions that implement the convolution steps for you. By now, you should be familiar with how TensorFlow builds computational graphs. In the [Functional API](https://www.tensorflow.org/guide/keras/functional), you create a graph of layers. This is what allows such great flexibility.\n",
    "\n",
    "However, the following model could also be defined using the Sequential API since the information flow is on a single line. But don't deviate. What we want you to learn is to use the functional API.\n",
    "\n",
    "Begin building your graph of layers by creating an input node that functions as a callable object:\n",
    "\n",
    "- **input_img = tf.keras.Input(shape=input_shape):** \n",
    "\n",
    "Then, create a new node in the graph of layers by calling a layer on the `input_img` object: \n",
    "\n",
    "- **tf.keras.layers.Conv2D(filters= ... , kernel_size= ... , padding='same')(input_img):** Read the full documentation on [Conv2D](https://www.tensorflow.org/api_docs/python/tf/keras/layers/Conv2D).\n",
    "\n",
    "- **tf.keras.layers.MaxPool2D(pool_size=(f, f), strides=(s, s), padding='same'):** `MaxPool2D()` downsamples your input using a window of size (f, f) and strides of size (s, s) to carry out max pooling over each window.  For max pooling, you usually operate on a single example at a time and a single channel at a time. Read the full documentation on [MaxPool2D](https://www.tensorflow.org/api_docs/python/tf/keras/layers/MaxPool2D).\n",
    "\n",
    "- **tf.keras.layers.ReLU():** computes the elementwise ReLU of Z (which can be any shape). You can read the full documentation on [ReLU](https://www.tensorflow.org/api_docs/python/tf/keras/layers/ReLU).\n",
    "\n",
    "- **tf.keras.layers.Flatten()**: given a tensor \"P\", this function takes each training (or test) example in the batch and flattens it into a 1D vector.  \n",
    "\n",
    "    * If a tensor P has the shape (batch_size,h,w,c), it returns a flattened tensor with shape (batch_size, k), where $k=h \\times w \\times c$.  \"k\" equals the product of all the dimension sizes other than the first dimension.\n",
    "    \n",
    "    * For example, given a tensor with dimensions [100, 2, 3, 4], it flattens the tensor to be of shape [100, 24], where 24 = 2 * 3 * 4.  You can read the full documentation on [Flatten](https://www.tensorflow.org/api_docs/python/tf/keras/layers/Flatten).\n",
    "\n",
    "- **tf.keras.layers.Dense(units= ... , activation='softmax')(F):** given the flattened input F, it returns the output computed using a fully connected layer. You can read the full documentation on [Dense](https://www.tensorflow.org/api_docs/python/tf/keras/layers/Dense).\n",
    "\n",
    "In the last function above (`tf.keras.layers.Dense()`), the fully connected layer automatically initializes weights in the graph and keeps on training them as you train the model. Hence, you did not need to initialize those weights when initializing the parameters.\n",
    "\n",
    "Lastly, before creating the model, you'll need to define the output using the last of the function's compositions (in this example, a Dense layer): \n",
    "\n",
    "- **outputs = tf.keras.layers.Dense(units=6, activation='softmax')(F)**\n",
    "\n",
    "\n",
    "#### Window, kernel, filter, pool\n",
    "\n",
    "The words \"kernel\" and \"filter\" are used to refer to the same thing. The word \"filter\" accounts for the amount of \"kernels\" that will be used in a single convolution layer. \"Pool\" is the name of the operation that takes the max or average value of the kernels. \n",
    "\n",
    "This is why the parameter `pool_size` refers to `kernel_size`, and you use `(f,f)` to refer to the filter size. \n",
    "\n",
    "Pool size and kernel size refer to the same thing in different objects - They refer to the shape of the window where the operation takes place. "
   ]
  },
  {
   "cell_type": "markdown",
   "metadata": {},
   "source": [
    "<a name='ex-2'></a>\n",
    "### Exercise 2 - convolutional_model\n",
    "\n",
    "Implement the `convolutional_model` function below to build the following model: `CONV2D -> RELU -> MAXPOOL -> CONV2D -> RELU -> MAXPOOL -> FLATTEN -> DENSE`. Use the functions above! \n",
    "\n",
    "Also, plug in the following parameters for all the steps:\n",
    "\n",
    " - [Conv2D](https://www.tensorflow.org/api_docs/python/tf/keras/layers/Conv2D): Use 8 4 by 4 filters, stride 1, padding is \"SAME\"\n",
    " - [ReLU](https://www.tensorflow.org/api_docs/python/tf/keras/layers/ReLU)\n",
    " - [MaxPool2D](https://www.tensorflow.org/api_docs/python/tf/keras/layers/MaxPool2D): Use an 8 by 8 filter size and an 8 by 8 stride, padding is \"SAME\"\n",
    " - **Conv2D**: Use 16 2 by 2 filters, stride 1, padding is \"SAME\"\n",
    " - **ReLU**\n",
    " - **MaxPool2D**: Use a 4 by 4 filter size and a 4 by 4 stride, padding is \"SAME\"\n",
    " - [Flatten](https://www.tensorflow.org/api_docs/python/tf/keras/layers/Flatten) the previous output.\n",
    " - Fully-connected ([Dense](https://www.tensorflow.org/api_docs/python/tf/keras/layers/Dense)) layer: Apply a fully connected layer with 6 neurons and a softmax activation. "
   ]
  },
  {
   "cell_type": "code",
   "execution_count": 13,
   "metadata": {
    "deletable": false,
    "nbgrader": {
     "cell_type": "code",
     "checksum": "f58643806aa8380c96225fc8b4c5e7aa",
     "grade": false,
     "grade_id": "cell-dac51744a9e03f51",
     "locked": false,
     "schema_version": 3,
     "solution": true,
     "task": false
    }
   },
   "outputs": [],
   "source": [
    "# GRADED FUNCTION: convolutional_model\n",
    "\n",
    "def convolutional_model(input_shape):\n",
    "    \"\"\"\n",
    "    Implements the forward propagation for the model:\n",
    "    CONV2D -> RELU -> MAXPOOL -> CONV2D -> RELU -> MAXPOOL -> FLATTEN -> DENSE\n",
    "    \n",
    "    Note that for simplicity and grading purposes, you'll hard-code some values\n",
    "    such as the stride and kernel (filter) sizes. \n",
    "    Normally, functions should take these values as function parameters.\n",
    "    \n",
    "    Arguments:\n",
    "    input_img -- input dataset, of shape (input_shape)\n",
    "\n",
    "    Returns:\n",
    "    model -- TF Keras model (object containing the information for the entire training process) \n",
    "    \"\"\"\n",
    "\n",
    "    input_img = tf.keras.Input(shape=input_shape)\n",
    "    ## CONV2D: 8 filters 4x4, stride of 1, padding 'SAME'\n",
    "    Z1 = tf.keras.layers.Conv2D(filters= 8 , kernel_size= (4,4) ,strides=(1,1), padding='same')(input_img)\n",
    "    ## RELU\n",
    "    A1 = tf.keras.layers.ReLU()(Z1)\n",
    "    ## MAXPOOL: window 8x8, stride 8, padding 'SAME'\n",
    "    P1 = tf.keras.layers.MaxPool2D(pool_size=(8,8), strides=(8, 8), padding='same')(A1)\n",
    "    ## CONV2D: 16 filters 2x2, stride 1, padding 'SAME'\n",
    "    Z2 = tf.keras.layers.Conv2D(filters= 16, kernel_size= (2,2), strides=(1,1), padding='same')(P1)\n",
    "    ## RELU\n",
    "    A2 = tf.keras.layers.ReLU()(Z2)\n",
    "    ## MAXPOOL: window 4x4, stride 4, padding 'SAME'\n",
    "    P2 = tf.keras.layers.MaxPool2D(pool_size=(4,4), strides=(4,4), padding='same')(A2)\n",
    "    # FLATTEN\n",
    "    F = tf.keras.layers.Flatten()(P2)\n",
    "    ## Dense layer\n",
    "    ## 6 neurons in output layer. Hint: one of the arguments should be \"activation='softmax'\" \n",
    "    outputs = tfl.Dense(6, activation='softmax')(F)\n",
    "    # YOUR CODE STARTS HERE\n",
    "    \n",
    "    \n",
    "    # YOUR CODE ENDS HERE\n",
    "    model = tf.keras.Model(inputs=input_img, outputs=outputs)\n",
    "    return model"
   ]
  },
  {
   "cell_type": "code",
   "execution_count": 14,
   "metadata": {
    "deletable": false,
    "editable": false,
    "nbgrader": {
     "cell_type": "code",
     "checksum": "483d626949930a0b0ef20997e7c6ba72",
     "grade": true,
     "grade_id": "cell-45d22e92042174c9",
     "locked": true,
     "points": 10,
     "schema_version": 3,
     "solution": false,
     "task": false
    }
   },
   "outputs": [
    {
     "name": "stdout",
     "output_type": "stream",
     "text": [
      "Model: \"functional_1\"\n",
      "_________________________________________________________________\n",
      "Layer (type)                 Output Shape              Param #   \n",
      "=================================================================\n",
      "input_1 (InputLayer)         [(None, 64, 64, 3)]       0         \n",
      "_________________________________________________________________\n",
      "conv2d_1 (Conv2D)            (None, 64, 64, 8)         392       \n",
      "_________________________________________________________________\n",
      "re_lu_1 (ReLU)               (None, 64, 64, 8)         0         \n",
      "_________________________________________________________________\n",
      "max_pooling2d_1 (MaxPooling2 (None, 8, 8, 8)           0         \n",
      "_________________________________________________________________\n",
      "conv2d_2 (Conv2D)            (None, 8, 8, 16)          528       \n",
      "_________________________________________________________________\n",
      "re_lu_2 (ReLU)               (None, 8, 8, 16)          0         \n",
      "_________________________________________________________________\n",
      "max_pooling2d_2 (MaxPooling2 (None, 2, 2, 16)          0         \n",
      "_________________________________________________________________\n",
      "flatten_1 (Flatten)          (None, 64)                0         \n",
      "_________________________________________________________________\n",
      "dense_1 (Dense)              (None, 6)                 390       \n",
      "=================================================================\n",
      "Total params: 1,310\n",
      "Trainable params: 1,310\n",
      "Non-trainable params: 0\n",
      "_________________________________________________________________\n",
      "\u001b[32mAll tests passed!\u001b[0m\n"
     ]
    }
   ],
   "source": [
    "conv_model = convolutional_model((64, 64, 3))\n",
    "conv_model.compile(optimizer='adam',\n",
    "                  loss='categorical_crossentropy',\n",
    "                  metrics=['accuracy'])\n",
    "conv_model.summary()\n",
    "    \n",
    "output = [['InputLayer', [(None, 64, 64, 3)], 0],\n",
    "        ['Conv2D', (None, 64, 64, 8), 392, 'same', 'linear', 'GlorotUniform'],\n",
    "        ['ReLU', (None, 64, 64, 8), 0],\n",
    "        ['MaxPooling2D', (None, 8, 8, 8), 0, (8, 8), (8, 8), 'same'],\n",
    "        ['Conv2D', (None, 8, 8, 16), 528, 'same', 'linear', 'GlorotUniform'],\n",
    "        ['ReLU', (None, 8, 8, 16), 0],\n",
    "        ['MaxPooling2D', (None, 2, 2, 16), 0, (4, 4), (4, 4), 'same'],\n",
    "        ['Flatten', (None, 64), 0],\n",
    "        ['Dense', (None, 6), 390, 'softmax']]\n",
    "    \n",
    "comparator(summary(conv_model), output)"
   ]
  },
  {
   "cell_type": "markdown",
   "metadata": {},
   "source": [
    "Both the Sequential and Functional APIs return a TF Keras model object. The only difference is how inputs are handled inside the object model! "
   ]
  },
  {
   "cell_type": "markdown",
   "metadata": {},
   "source": [
    "<a name='4-4'></a>\n",
    "### 4.4 - Train the Model"
   ]
  },
  {
   "cell_type": "code",
   "execution_count": 15,
   "metadata": {},
   "outputs": [
    {
     "name": "stdout",
     "output_type": "stream",
     "text": [
      "Epoch 1/100\n",
      "17/17 [==============================] - 2s 108ms/step - loss: 1.8397 - accuracy: 0.1667 - val_loss: 1.8036 - val_accuracy: 0.1583\n",
      "Epoch 2/100\n",
      "17/17 [==============================] - 2s 106ms/step - loss: 1.7921 - accuracy: 0.1769 - val_loss: 1.7924 - val_accuracy: 0.1417\n",
      "Epoch 3/100\n",
      "17/17 [==============================] - 2s 101ms/step - loss: 1.7848 - accuracy: 0.1963 - val_loss: 1.7862 - val_accuracy: 0.2417\n",
      "Epoch 4/100\n",
      "17/17 [==============================] - 2s 106ms/step - loss: 1.7786 - accuracy: 0.2713 - val_loss: 1.7801 - val_accuracy: 0.3000\n",
      "Epoch 5/100\n",
      "17/17 [==============================] - 2s 106ms/step - loss: 1.7720 - accuracy: 0.3056 - val_loss: 1.7730 - val_accuracy: 0.3250\n",
      "Epoch 6/100\n",
      "17/17 [==============================] - 2s 100ms/step - loss: 1.7645 - accuracy: 0.3426 - val_loss: 1.7667 - val_accuracy: 0.3500\n",
      "Epoch 7/100\n",
      "17/17 [==============================] - 2s 102ms/step - loss: 1.7557 - accuracy: 0.3741 - val_loss: 1.7581 - val_accuracy: 0.3917\n",
      "Epoch 8/100\n",
      "17/17 [==============================] - 2s 106ms/step - loss: 1.7449 - accuracy: 0.3824 - val_loss: 1.7474 - val_accuracy: 0.4083\n",
      "Epoch 9/100\n",
      "17/17 [==============================] - 2s 106ms/step - loss: 1.7306 - accuracy: 0.4148 - val_loss: 1.7324 - val_accuracy: 0.4250\n",
      "Epoch 10/100\n",
      "17/17 [==============================] - 2s 106ms/step - loss: 1.7120 - accuracy: 0.4231 - val_loss: 1.7137 - val_accuracy: 0.4417\n",
      "Epoch 11/100\n",
      "17/17 [==============================] - 2s 106ms/step - loss: 1.6882 - accuracy: 0.4333 - val_loss: 1.6908 - val_accuracy: 0.4833\n",
      "Epoch 12/100\n",
      "17/17 [==============================] - 2s 111ms/step - loss: 1.6589 - accuracy: 0.4454 - val_loss: 1.6651 - val_accuracy: 0.4750\n",
      "Epoch 13/100\n",
      "17/17 [==============================] - 2s 106ms/step - loss: 1.6247 - accuracy: 0.4491 - val_loss: 1.6351 - val_accuracy: 0.4583\n",
      "Epoch 14/100\n",
      "17/17 [==============================] - 2s 107ms/step - loss: 1.5863 - accuracy: 0.4556 - val_loss: 1.6019 - val_accuracy: 0.4667\n",
      "Epoch 15/100\n",
      "17/17 [==============================] - 2s 106ms/step - loss: 1.5448 - accuracy: 0.4722 - val_loss: 1.5665 - val_accuracy: 0.5167\n",
      "Epoch 16/100\n",
      "17/17 [==============================] - 2s 106ms/step - loss: 1.5019 - accuracy: 0.4824 - val_loss: 1.5291 - val_accuracy: 0.5167\n",
      "Epoch 17/100\n",
      "17/17 [==============================] - 2s 106ms/step - loss: 1.4583 - accuracy: 0.4981 - val_loss: 1.4911 - val_accuracy: 0.5333\n",
      "Epoch 18/100\n",
      "17/17 [==============================] - 2s 105ms/step - loss: 1.4159 - accuracy: 0.5130 - val_loss: 1.4540 - val_accuracy: 0.5333\n",
      "Epoch 19/100\n",
      "17/17 [==============================] - 2s 106ms/step - loss: 1.3722 - accuracy: 0.5333 - val_loss: 1.4150 - val_accuracy: 0.5250\n",
      "Epoch 20/100\n",
      "17/17 [==============================] - 2s 106ms/step - loss: 1.3300 - accuracy: 0.5444 - val_loss: 1.3790 - val_accuracy: 0.5250\n",
      "Epoch 21/100\n",
      "17/17 [==============================] - 2s 105ms/step - loss: 1.2890 - accuracy: 0.5565 - val_loss: 1.3431 - val_accuracy: 0.5083\n",
      "Epoch 22/100\n",
      "17/17 [==============================] - 2s 106ms/step - loss: 1.2452 - accuracy: 0.5824 - val_loss: 1.3024 - val_accuracy: 0.5500\n",
      "Epoch 23/100\n",
      "17/17 [==============================] - 2s 106ms/step - loss: 1.2025 - accuracy: 0.6037 - val_loss: 1.2640 - val_accuracy: 0.6083\n",
      "Epoch 24/100\n",
      "17/17 [==============================] - 2s 106ms/step - loss: 1.1646 - accuracy: 0.6204 - val_loss: 1.2280 - val_accuracy: 0.6000\n",
      "Epoch 25/100\n",
      "17/17 [==============================] - 2s 106ms/step - loss: 1.1257 - accuracy: 0.6361 - val_loss: 1.1949 - val_accuracy: 0.6500\n",
      "Epoch 26/100\n",
      "17/17 [==============================] - 2s 106ms/step - loss: 1.0900 - accuracy: 0.6583 - val_loss: 1.1623 - val_accuracy: 0.6583\n",
      "Epoch 27/100\n",
      "17/17 [==============================] - 2s 111ms/step - loss: 1.0559 - accuracy: 0.6741 - val_loss: 1.1326 - val_accuracy: 0.6667\n",
      "Epoch 28/100\n",
      "17/17 [==============================] - 2s 106ms/step - loss: 1.0247 - accuracy: 0.6861 - val_loss: 1.1052 - val_accuracy: 0.6750\n",
      "Epoch 29/100\n",
      "17/17 [==============================] - 2s 106ms/step - loss: 0.9939 - accuracy: 0.7028 - val_loss: 1.0777 - val_accuracy: 0.7000\n",
      "Epoch 30/100\n",
      "17/17 [==============================] - 2s 106ms/step - loss: 0.9671 - accuracy: 0.7093 - val_loss: 1.0563 - val_accuracy: 0.6917\n",
      "Epoch 31/100\n",
      "17/17 [==============================] - 2s 106ms/step - loss: 0.9411 - accuracy: 0.7250 - val_loss: 1.0308 - val_accuracy: 0.7250\n",
      "Epoch 32/100\n",
      "17/17 [==============================] - 2s 106ms/step - loss: 0.9170 - accuracy: 0.7324 - val_loss: 1.0100 - val_accuracy: 0.7250\n",
      "Epoch 33/100\n",
      "17/17 [==============================] - 2s 101ms/step - loss: 0.8947 - accuracy: 0.7352 - val_loss: 0.9903 - val_accuracy: 0.7333\n",
      "Epoch 34/100\n",
      "17/17 [==============================] - 2s 106ms/step - loss: 0.8740 - accuracy: 0.7370 - val_loss: 0.9729 - val_accuracy: 0.7333\n",
      "Epoch 35/100\n",
      "17/17 [==============================] - 2s 106ms/step - loss: 0.8538 - accuracy: 0.7481 - val_loss: 0.9551 - val_accuracy: 0.7250\n",
      "Epoch 36/100\n",
      "17/17 [==============================] - 2s 106ms/step - loss: 0.8343 - accuracy: 0.7630 - val_loss: 0.9396 - val_accuracy: 0.7333\n",
      "Epoch 37/100\n",
      "17/17 [==============================] - 2s 111ms/step - loss: 0.8165 - accuracy: 0.7620 - val_loss: 0.9232 - val_accuracy: 0.7333\n",
      "Epoch 38/100\n",
      "17/17 [==============================] - 2s 106ms/step - loss: 0.7983 - accuracy: 0.7667 - val_loss: 0.9077 - val_accuracy: 0.7333\n",
      "Epoch 39/100\n",
      "17/17 [==============================] - 2s 106ms/step - loss: 0.7825 - accuracy: 0.7731 - val_loss: 0.8927 - val_accuracy: 0.7167\n",
      "Epoch 40/100\n",
      "17/17 [==============================] - 2s 101ms/step - loss: 0.7675 - accuracy: 0.7713 - val_loss: 0.8814 - val_accuracy: 0.7333\n",
      "Epoch 41/100\n",
      "17/17 [==============================] - 2s 100ms/step - loss: 0.7523 - accuracy: 0.7815 - val_loss: 0.8674 - val_accuracy: 0.7333\n",
      "Epoch 42/100\n",
      "17/17 [==============================] - 2s 106ms/step - loss: 0.7382 - accuracy: 0.7852 - val_loss: 0.8560 - val_accuracy: 0.7417\n",
      "Epoch 43/100\n",
      "17/17 [==============================] - 2s 106ms/step - loss: 0.7249 - accuracy: 0.7917 - val_loss: 0.8429 - val_accuracy: 0.7417\n",
      "Epoch 44/100\n",
      "17/17 [==============================] - 2s 106ms/step - loss: 0.7117 - accuracy: 0.7926 - val_loss: 0.8322 - val_accuracy: 0.7417\n",
      "Epoch 45/100\n",
      "17/17 [==============================] - 2s 106ms/step - loss: 0.6998 - accuracy: 0.7963 - val_loss: 0.8219 - val_accuracy: 0.7500\n",
      "Epoch 46/100\n",
      "17/17 [==============================] - 2s 106ms/step - loss: 0.6876 - accuracy: 0.8019 - val_loss: 0.8110 - val_accuracy: 0.7500\n",
      "Epoch 47/100\n",
      "17/17 [==============================] - 2s 106ms/step - loss: 0.6769 - accuracy: 0.8046 - val_loss: 0.8020 - val_accuracy: 0.7500\n",
      "Epoch 48/100\n",
      "17/17 [==============================] - 2s 106ms/step - loss: 0.6658 - accuracy: 0.8056 - val_loss: 0.7926 - val_accuracy: 0.7500\n",
      "Epoch 49/100\n",
      "17/17 [==============================] - 2s 101ms/step - loss: 0.6557 - accuracy: 0.8102 - val_loss: 0.7846 - val_accuracy: 0.7500\n",
      "Epoch 50/100\n",
      "17/17 [==============================] - 2s 106ms/step - loss: 0.6455 - accuracy: 0.8148 - val_loss: 0.7752 - val_accuracy: 0.7583\n",
      "Epoch 51/100\n",
      "17/17 [==============================] - 2s 106ms/step - loss: 0.6358 - accuracy: 0.8185 - val_loss: 0.7687 - val_accuracy: 0.7583\n",
      "Epoch 52/100\n",
      "17/17 [==============================] - 2s 106ms/step - loss: 0.6274 - accuracy: 0.8241 - val_loss: 0.7593 - val_accuracy: 0.7583\n",
      "Epoch 53/100\n",
      "17/17 [==============================] - 2s 106ms/step - loss: 0.6180 - accuracy: 0.8287 - val_loss: 0.7523 - val_accuracy: 0.7583\n",
      "Epoch 54/100\n",
      "17/17 [==============================] - 2s 106ms/step - loss: 0.6091 - accuracy: 0.8296 - val_loss: 0.7445 - val_accuracy: 0.7583\n",
      "Epoch 55/100\n",
      "17/17 [==============================] - 2s 106ms/step - loss: 0.6003 - accuracy: 0.8352 - val_loss: 0.7376 - val_accuracy: 0.7583\n",
      "Epoch 56/100\n",
      "17/17 [==============================] - 2s 106ms/step - loss: 0.5919 - accuracy: 0.8361 - val_loss: 0.7307 - val_accuracy: 0.7583\n",
      "Epoch 57/100\n",
      "17/17 [==============================] - 2s 106ms/step - loss: 0.5838 - accuracy: 0.8407 - val_loss: 0.7242 - val_accuracy: 0.7583\n",
      "Epoch 58/100\n",
      "17/17 [==============================] - 2s 106ms/step - loss: 0.5766 - accuracy: 0.8398 - val_loss: 0.7175 - val_accuracy: 0.7583\n",
      "Epoch 59/100\n",
      "17/17 [==============================] - 2s 101ms/step - loss: 0.5687 - accuracy: 0.8417 - val_loss: 0.7107 - val_accuracy: 0.7583\n",
      "Epoch 60/100\n",
      "17/17 [==============================] - 2s 106ms/step - loss: 0.5613 - accuracy: 0.8435 - val_loss: 0.7046 - val_accuracy: 0.7500\n",
      "Epoch 61/100\n",
      "17/17 [==============================] - 2s 106ms/step - loss: 0.5541 - accuracy: 0.8454 - val_loss: 0.6993 - val_accuracy: 0.7583\n",
      "Epoch 62/100\n",
      "17/17 [==============================] - 2s 101ms/step - loss: 0.5473 - accuracy: 0.8444 - val_loss: 0.6936 - val_accuracy: 0.7750\n",
      "Epoch 63/100\n",
      "17/17 [==============================] - 2s 106ms/step - loss: 0.5409 - accuracy: 0.8472 - val_loss: 0.6876 - val_accuracy: 0.7583\n",
      "Epoch 64/100\n",
      "17/17 [==============================] - 2s 105ms/step - loss: 0.5334 - accuracy: 0.8463 - val_loss: 0.6812 - val_accuracy: 0.7750\n",
      "Epoch 65/100\n",
      "17/17 [==============================] - 2s 106ms/step - loss: 0.5270 - accuracy: 0.8463 - val_loss: 0.6762 - val_accuracy: 0.7750\n",
      "Epoch 66/100\n",
      "17/17 [==============================] - 2s 106ms/step - loss: 0.5210 - accuracy: 0.8500 - val_loss: 0.6715 - val_accuracy: 0.7750\n",
      "Epoch 67/100\n",
      "17/17 [==============================] - 2s 106ms/step - loss: 0.5152 - accuracy: 0.8481 - val_loss: 0.6657 - val_accuracy: 0.7750\n",
      "Epoch 68/100\n",
      "17/17 [==============================] - 2s 106ms/step - loss: 0.5087 - accuracy: 0.8509 - val_loss: 0.6618 - val_accuracy: 0.7833\n",
      "Epoch 69/100\n",
      "17/17 [==============================] - 2s 101ms/step - loss: 0.5028 - accuracy: 0.8537 - val_loss: 0.6561 - val_accuracy: 0.7833\n",
      "Epoch 70/100\n",
      "17/17 [==============================] - 2s 106ms/step - loss: 0.4969 - accuracy: 0.8537 - val_loss: 0.6522 - val_accuracy: 0.7833\n",
      "Epoch 71/100\n",
      "17/17 [==============================] - 2s 106ms/step - loss: 0.4913 - accuracy: 0.8546 - val_loss: 0.6460 - val_accuracy: 0.7833\n",
      "Epoch 72/100\n",
      "17/17 [==============================] - 2s 106ms/step - loss: 0.4853 - accuracy: 0.8574 - val_loss: 0.6417 - val_accuracy: 0.7917\n",
      "Epoch 73/100\n",
      "17/17 [==============================] - 2s 106ms/step - loss: 0.4794 - accuracy: 0.8565 - val_loss: 0.6386 - val_accuracy: 0.7833\n",
      "Epoch 74/100\n",
      "17/17 [==============================] - 2s 106ms/step - loss: 0.4745 - accuracy: 0.8620 - val_loss: 0.6340 - val_accuracy: 0.7833\n",
      "Epoch 75/100\n",
      "17/17 [==============================] - 2s 106ms/step - loss: 0.4692 - accuracy: 0.8620 - val_loss: 0.6300 - val_accuracy: 0.7750\n",
      "Epoch 76/100\n",
      "17/17 [==============================] - 2s 106ms/step - loss: 0.4643 - accuracy: 0.8639 - val_loss: 0.6260 - val_accuracy: 0.7917\n",
      "Epoch 77/100\n",
      "17/17 [==============================] - 2s 101ms/step - loss: 0.4593 - accuracy: 0.8657 - val_loss: 0.6214 - val_accuracy: 0.7750\n",
      "Epoch 78/100\n",
      "17/17 [==============================] - 2s 106ms/step - loss: 0.4542 - accuracy: 0.8676 - val_loss: 0.6179 - val_accuracy: 0.7750\n",
      "Epoch 79/100\n",
      "17/17 [==============================] - 2s 106ms/step - loss: 0.4494 - accuracy: 0.8685 - val_loss: 0.6144 - val_accuracy: 0.7667\n",
      "Epoch 80/100\n",
      "17/17 [==============================] - 2s 106ms/step - loss: 0.4450 - accuracy: 0.8704 - val_loss: 0.6108 - val_accuracy: 0.7833\n",
      "Epoch 81/100\n",
      "17/17 [==============================] - 2s 106ms/step - loss: 0.4404 - accuracy: 0.8694 - val_loss: 0.6056 - val_accuracy: 0.7750\n",
      "Epoch 82/100\n",
      "17/17 [==============================] - 2s 106ms/step - loss: 0.4360 - accuracy: 0.8713 - val_loss: 0.6024 - val_accuracy: 0.7833\n",
      "Epoch 83/100\n",
      "17/17 [==============================] - 2s 106ms/step - loss: 0.4314 - accuracy: 0.8685 - val_loss: 0.5989 - val_accuracy: 0.7833\n",
      "Epoch 84/100\n",
      "17/17 [==============================] - 2s 106ms/step - loss: 0.4269 - accuracy: 0.8722 - val_loss: 0.5968 - val_accuracy: 0.7833\n",
      "Epoch 85/100\n",
      "17/17 [==============================] - 2s 106ms/step - loss: 0.4227 - accuracy: 0.8713 - val_loss: 0.5919 - val_accuracy: 0.7833\n",
      "Epoch 86/100\n",
      "17/17 [==============================] - 2s 111ms/step - loss: 0.4183 - accuracy: 0.8750 - val_loss: 0.5897 - val_accuracy: 0.7917\n",
      "Epoch 87/100\n",
      "17/17 [==============================] - 2s 106ms/step - loss: 0.4143 - accuracy: 0.8759 - val_loss: 0.5858 - val_accuracy: 0.7833\n",
      "Epoch 88/100\n",
      "17/17 [==============================] - 2s 106ms/step - loss: 0.4098 - accuracy: 0.8787 - val_loss: 0.5812 - val_accuracy: 0.7917\n",
      "Epoch 89/100\n",
      "17/17 [==============================] - 2s 106ms/step - loss: 0.4055 - accuracy: 0.8769 - val_loss: 0.5780 - val_accuracy: 0.7917\n",
      "Epoch 90/100\n",
      "17/17 [==============================] - 2s 106ms/step - loss: 0.4014 - accuracy: 0.8815 - val_loss: 0.5768 - val_accuracy: 0.7917\n",
      "Epoch 91/100\n",
      "17/17 [==============================] - 2s 106ms/step - loss: 0.3981 - accuracy: 0.8824 - val_loss: 0.5740 - val_accuracy: 0.7833\n",
      "Epoch 92/100\n",
      "17/17 [==============================] - 2s 106ms/step - loss: 0.3939 - accuracy: 0.8824 - val_loss: 0.5712 - val_accuracy: 0.7917\n",
      "Epoch 93/100\n",
      "17/17 [==============================] - 2s 101ms/step - loss: 0.3904 - accuracy: 0.8833 - val_loss: 0.5664 - val_accuracy: 0.7917\n",
      "Epoch 94/100\n",
      "17/17 [==============================] - 2s 107ms/step - loss: 0.3864 - accuracy: 0.8861 - val_loss: 0.5653 - val_accuracy: 0.7917\n",
      "Epoch 95/100\n",
      "17/17 [==============================] - 2s 107ms/step - loss: 0.3826 - accuracy: 0.8880 - val_loss: 0.5617 - val_accuracy: 0.8000\n",
      "Epoch 96/100\n",
      "17/17 [==============================] - 2s 106ms/step - loss: 0.3787 - accuracy: 0.8870 - val_loss: 0.5586 - val_accuracy: 0.8000\n",
      "Epoch 97/100\n",
      "17/17 [==============================] - 2s 106ms/step - loss: 0.3749 - accuracy: 0.8907 - val_loss: 0.5564 - val_accuracy: 0.8000\n",
      "Epoch 98/100\n",
      "17/17 [==============================] - 2s 106ms/step - loss: 0.3713 - accuracy: 0.8898 - val_loss: 0.5543 - val_accuracy: 0.8000\n",
      "Epoch 99/100\n",
      "17/17 [==============================] - 2s 101ms/step - loss: 0.3674 - accuracy: 0.8935 - val_loss: 0.5507 - val_accuracy: 0.8000\n",
      "Epoch 100/100\n",
      "17/17 [==============================] - 2s 106ms/step - loss: 0.3639 - accuracy: 0.8926 - val_loss: 0.5505 - val_accuracy: 0.8000\n"
     ]
    }
   ],
   "source": [
    "train_dataset = tf.data.Dataset.from_tensor_slices((X_train, Y_train)).batch(64)\n",
    "test_dataset = tf.data.Dataset.from_tensor_slices((X_test, Y_test)).batch(64)\n",
    "history = conv_model.fit(train_dataset, epochs=100, validation_data=test_dataset)"
   ]
  },
  {
   "cell_type": "markdown",
   "metadata": {},
   "source": [
    "<a name='5'></a>\n",
    "## 5 - History Object \n",
    "\n",
    "The history object is an output of the `.fit()` operation, and provides a record of all the loss and metric values in memory. It's stored as a dictionary that you can retrieve at `history.history`: "
   ]
  },
  {
   "cell_type": "code",
   "execution_count": 16,
   "metadata": {},
   "outputs": [
    {
     "data": {
      "text/plain": [
       "{'loss': [1.8396886587142944,\n",
       "  1.792085886001587,\n",
       "  1.784812569618225,\n",
       "  1.7786362171173096,\n",
       "  1.7720167636871338,\n",
       "  1.7645065784454346,\n",
       "  1.755698323249817,\n",
       "  1.7448915243148804,\n",
       "  1.7305593490600586,\n",
       "  1.711977243423462,\n",
       "  1.6881585121154785,\n",
       "  1.6589285135269165,\n",
       "  1.6246767044067383,\n",
       "  1.5863384008407593,\n",
       "  1.5447602272033691,\n",
       "  1.5019166469573975,\n",
       "  1.4582849740982056,\n",
       "  1.4159183502197266,\n",
       "  1.3722026348114014,\n",
       "  1.3299810886383057,\n",
       "  1.289047122001648,\n",
       "  1.2452303171157837,\n",
       "  1.202513337135315,\n",
       "  1.1645780801773071,\n",
       "  1.1257261037826538,\n",
       "  1.0899595022201538,\n",
       "  1.055877923965454,\n",
       "  1.0247063636779785,\n",
       "  0.9939107298851013,\n",
       "  0.9671309590339661,\n",
       "  0.941067636013031,\n",
       "  0.9170328378677368,\n",
       "  0.8946769833564758,\n",
       "  0.8739761710166931,\n",
       "  0.8538472056388855,\n",
       "  0.834267258644104,\n",
       "  0.8164622187614441,\n",
       "  0.7983064651489258,\n",
       "  0.782471239566803,\n",
       "  0.7674742341041565,\n",
       "  0.7522743344306946,\n",
       "  0.7381942272186279,\n",
       "  0.7249394655227661,\n",
       "  0.7116730213165283,\n",
       "  0.6998152732849121,\n",
       "  0.6875776648521423,\n",
       "  0.6768860220909119,\n",
       "  0.6657522916793823,\n",
       "  0.6556767821311951,\n",
       "  0.6455466151237488,\n",
       "  0.635830283164978,\n",
       "  0.6273828744888306,\n",
       "  0.6179510951042175,\n",
       "  0.6090545654296875,\n",
       "  0.6002602577209473,\n",
       "  0.5919444561004639,\n",
       "  0.5838112235069275,\n",
       "  0.576581597328186,\n",
       "  0.5687267184257507,\n",
       "  0.5612507462501526,\n",
       "  0.5541192889213562,\n",
       "  0.5473407506942749,\n",
       "  0.5408759117126465,\n",
       "  0.533431887626648,\n",
       "  0.5269966125488281,\n",
       "  0.5209880471229553,\n",
       "  0.515155017375946,\n",
       "  0.5086722373962402,\n",
       "  0.5027997493743896,\n",
       "  0.4969319701194763,\n",
       "  0.49134260416030884,\n",
       "  0.48533228039741516,\n",
       "  0.47944560647010803,\n",
       "  0.4745045304298401,\n",
       "  0.4691791534423828,\n",
       "  0.4642517566680908,\n",
       "  0.4593316912651062,\n",
       "  0.45422717928886414,\n",
       "  0.4493684768676758,\n",
       "  0.4450128972530365,\n",
       "  0.4404366910457611,\n",
       "  0.43596336245536804,\n",
       "  0.43143925070762634,\n",
       "  0.4268819987773895,\n",
       "  0.4227065145969391,\n",
       "  0.4182750880718231,\n",
       "  0.4143424928188324,\n",
       "  0.40976420044898987,\n",
       "  0.4054907262325287,\n",
       "  0.40136390924453735,\n",
       "  0.39806321263313293,\n",
       "  0.3939271867275238,\n",
       "  0.39037615060806274,\n",
       "  0.38640788197517395,\n",
       "  0.38262006640434265,\n",
       "  0.37874695658683777,\n",
       "  0.37490934133529663,\n",
       "  0.37128332257270813,\n",
       "  0.3674240708351135,\n",
       "  0.36390525102615356],\n",
       " 'accuracy': [0.1666666716337204,\n",
       "  0.17685185372829437,\n",
       "  0.19629628956317902,\n",
       "  0.27129629254341125,\n",
       "  0.3055555522441864,\n",
       "  0.34259259700775146,\n",
       "  0.3740740716457367,\n",
       "  0.38240739703178406,\n",
       "  0.4148148000240326,\n",
       "  0.42314815521240234,\n",
       "  0.4333333373069763,\n",
       "  0.4453703761100769,\n",
       "  0.44907405972480774,\n",
       "  0.4555555582046509,\n",
       "  0.4722222089767456,\n",
       "  0.48240742087364197,\n",
       "  0.4981481432914734,\n",
       "  0.5129629373550415,\n",
       "  0.5333333611488342,\n",
       "  0.5444444417953491,\n",
       "  0.5564814805984497,\n",
       "  0.5824074149131775,\n",
       "  0.6037036776542664,\n",
       "  0.6203703880310059,\n",
       "  0.6361111402511597,\n",
       "  0.6583333611488342,\n",
       "  0.6740740537643433,\n",
       "  0.6861110925674438,\n",
       "  0.7027778029441833,\n",
       "  0.7092592716217041,\n",
       "  0.7250000238418579,\n",
       "  0.7324073910713196,\n",
       "  0.7351852059364319,\n",
       "  0.7370370626449585,\n",
       "  0.7481481432914734,\n",
       "  0.7629629373550415,\n",
       "  0.7620370388031006,\n",
       "  0.7666666507720947,\n",
       "  0.7731481194496155,\n",
       "  0.7712963223457336,\n",
       "  0.7814815044403076,\n",
       "  0.7851851582527161,\n",
       "  0.7916666865348816,\n",
       "  0.7925925850868225,\n",
       "  0.7962962985038757,\n",
       "  0.8018518686294556,\n",
       "  0.8046296238899231,\n",
       "  0.8055555820465088,\n",
       "  0.8101851940155029,\n",
       "  0.8148148059844971,\n",
       "  0.8185185194015503,\n",
       "  0.8240740895271301,\n",
       "  0.8287037014961243,\n",
       "  0.8296296000480652,\n",
       "  0.835185170173645,\n",
       "  0.8361111283302307,\n",
       "  0.8407407402992249,\n",
       "  0.8398148417472839,\n",
       "  0.8416666388511658,\n",
       "  0.8435184955596924,\n",
       "  0.845370352268219,\n",
       "  0.8444444537162781,\n",
       "  0.8472222089767456,\n",
       "  0.8462963104248047,\n",
       "  0.8462963104248047,\n",
       "  0.8500000238418579,\n",
       "  0.8481481671333313,\n",
       "  0.8509259223937988,\n",
       "  0.8537036776542664,\n",
       "  0.8537036776542664,\n",
       "  0.854629635810852,\n",
       "  0.8574073910713196,\n",
       "  0.8564814925193787,\n",
       "  0.8620370626449585,\n",
       "  0.8620370626449585,\n",
       "  0.8638888597488403,\n",
       "  0.8657407164573669,\n",
       "  0.8675925731658936,\n",
       "  0.8685185313224792,\n",
       "  0.8703703880310059,\n",
       "  0.8694444298744202,\n",
       "  0.8712962865829468,\n",
       "  0.8685185313224792,\n",
       "  0.8722222447395325,\n",
       "  0.8712962865829468,\n",
       "  0.875,\n",
       "  0.8759258985519409,\n",
       "  0.8787037134170532,\n",
       "  0.8768518567085266,\n",
       "  0.8814814686775208,\n",
       "  0.8824074268341064,\n",
       "  0.8824074268341064,\n",
       "  0.8833333253860474,\n",
       "  0.8861111402511597,\n",
       "  0.8879629373550415,\n",
       "  0.8870370388031006,\n",
       "  0.8907407522201538,\n",
       "  0.8898147940635681,\n",
       "  0.8935185074806213,\n",
       "  0.8925926089286804],\n",
       " 'val_loss': [1.803612470626831,\n",
       "  1.7924436330795288,\n",
       "  1.7862249612808228,\n",
       "  1.7801430225372314,\n",
       "  1.7730127573013306,\n",
       "  1.7666544914245605,\n",
       "  1.7580833435058594,\n",
       "  1.7474348545074463,\n",
       "  1.7323933839797974,\n",
       "  1.7137340307235718,\n",
       "  1.6907702684402466,\n",
       "  1.665050745010376,\n",
       "  1.635076642036438,\n",
       "  1.6019115447998047,\n",
       "  1.5665209293365479,\n",
       "  1.5290532112121582,\n",
       "  1.491051435470581,\n",
       "  1.4539631605148315,\n",
       "  1.414961338043213,\n",
       "  1.379016399383545,\n",
       "  1.343091607093811,\n",
       "  1.3023982048034668,\n",
       "  1.264031171798706,\n",
       "  1.2280446290969849,\n",
       "  1.1948570013046265,\n",
       "  1.1623187065124512,\n",
       "  1.1325749158859253,\n",
       "  1.1051591634750366,\n",
       "  1.0776691436767578,\n",
       "  1.056342601776123,\n",
       "  1.030760645866394,\n",
       "  1.0100301504135132,\n",
       "  0.9902644753456116,\n",
       "  0.9729033708572388,\n",
       "  0.9550864696502686,\n",
       "  0.9395978450775146,\n",
       "  0.9232264161109924,\n",
       "  0.9077202081680298,\n",
       "  0.8926835656166077,\n",
       "  0.8813636898994446,\n",
       "  0.8674189448356628,\n",
       "  0.8560094237327576,\n",
       "  0.8428914546966553,\n",
       "  0.8321724534034729,\n",
       "  0.8218556642532349,\n",
       "  0.81102055311203,\n",
       "  0.8020306825637817,\n",
       "  0.7926308512687683,\n",
       "  0.784576416015625,\n",
       "  0.7751888036727905,\n",
       "  0.7686735391616821,\n",
       "  0.7593167424201965,\n",
       "  0.7522586584091187,\n",
       "  0.7445381283760071,\n",
       "  0.7375670075416565,\n",
       "  0.7306548953056335,\n",
       "  0.7241948246955872,\n",
       "  0.7175350189208984,\n",
       "  0.7107248902320862,\n",
       "  0.7046347260475159,\n",
       "  0.6993337273597717,\n",
       "  0.6936323046684265,\n",
       "  0.6876252293586731,\n",
       "  0.6812318563461304,\n",
       "  0.676202118396759,\n",
       "  0.6714602112770081,\n",
       "  0.6656767129898071,\n",
       "  0.661843478679657,\n",
       "  0.6561101675033569,\n",
       "  0.652157723903656,\n",
       "  0.6460096836090088,\n",
       "  0.6417185068130493,\n",
       "  0.6385935544967651,\n",
       "  0.6340020298957825,\n",
       "  0.6299890875816345,\n",
       "  0.6259695887565613,\n",
       "  0.6214072108268738,\n",
       "  0.6178504824638367,\n",
       "  0.614363968372345,\n",
       "  0.610843300819397,\n",
       "  0.6055613160133362,\n",
       "  0.6024158596992493,\n",
       "  0.5989437103271484,\n",
       "  0.5968021750450134,\n",
       "  0.5919492244720459,\n",
       "  0.5897064208984375,\n",
       "  0.5858496427536011,\n",
       "  0.5812333226203918,\n",
       "  0.5779953002929688,\n",
       "  0.5767815709114075,\n",
       "  0.5740289688110352,\n",
       "  0.5711728930473328,\n",
       "  0.5664492845535278,\n",
       "  0.5652993321418762,\n",
       "  0.5616973042488098,\n",
       "  0.5585983395576477,\n",
       "  0.5564402937889099,\n",
       "  0.554311990737915,\n",
       "  0.5507432222366333,\n",
       "  0.5505303740501404],\n",
       " 'val_accuracy': [0.15833333134651184,\n",
       "  0.14166666567325592,\n",
       "  0.24166665971279144,\n",
       "  0.30000001192092896,\n",
       "  0.32499998807907104,\n",
       "  0.3499999940395355,\n",
       "  0.3916666805744171,\n",
       "  0.40833333134651184,\n",
       "  0.42500001192092896,\n",
       "  0.4416666626930237,\n",
       "  0.4833333194255829,\n",
       "  0.4749999940395355,\n",
       "  0.4583333432674408,\n",
       "  0.46666666865348816,\n",
       "  0.5166666507720947,\n",
       "  0.5166666507720947,\n",
       "  0.5333333611488342,\n",
       "  0.5333333611488342,\n",
       "  0.5249999761581421,\n",
       "  0.5249999761581421,\n",
       "  0.5083333253860474,\n",
       "  0.550000011920929,\n",
       "  0.6083333492279053,\n",
       "  0.6000000238418579,\n",
       "  0.6499999761581421,\n",
       "  0.6583333611488342,\n",
       "  0.6666666865348816,\n",
       "  0.675000011920929,\n",
       "  0.699999988079071,\n",
       "  0.6916666626930237,\n",
       "  0.7250000238418579,\n",
       "  0.7250000238418579,\n",
       "  0.7333333492279053,\n",
       "  0.7333333492279053,\n",
       "  0.7250000238418579,\n",
       "  0.7333333492279053,\n",
       "  0.7333333492279053,\n",
       "  0.7333333492279053,\n",
       "  0.7166666388511658,\n",
       "  0.7333333492279053,\n",
       "  0.7333333492279053,\n",
       "  0.7416666746139526,\n",
       "  0.7416666746139526,\n",
       "  0.7416666746139526,\n",
       "  0.75,\n",
       "  0.75,\n",
       "  0.75,\n",
       "  0.75,\n",
       "  0.75,\n",
       "  0.7583333253860474,\n",
       "  0.7583333253860474,\n",
       "  0.7583333253860474,\n",
       "  0.7583333253860474,\n",
       "  0.7583333253860474,\n",
       "  0.7583333253860474,\n",
       "  0.7583333253860474,\n",
       "  0.7583333253860474,\n",
       "  0.7583333253860474,\n",
       "  0.7583333253860474,\n",
       "  0.75,\n",
       "  0.7583333253860474,\n",
       "  0.7749999761581421,\n",
       "  0.7583333253860474,\n",
       "  0.7749999761581421,\n",
       "  0.7749999761581421,\n",
       "  0.7749999761581421,\n",
       "  0.7749999761581421,\n",
       "  0.7833333611488342,\n",
       "  0.7833333611488342,\n",
       "  0.7833333611488342,\n",
       "  0.7833333611488342,\n",
       "  0.7916666865348816,\n",
       "  0.7833333611488342,\n",
       "  0.7833333611488342,\n",
       "  0.7749999761581421,\n",
       "  0.7916666865348816,\n",
       "  0.7749999761581421,\n",
       "  0.7749999761581421,\n",
       "  0.7666666507720947,\n",
       "  0.7833333611488342,\n",
       "  0.7749999761581421,\n",
       "  0.7833333611488342,\n",
       "  0.7833333611488342,\n",
       "  0.7833333611488342,\n",
       "  0.7833333611488342,\n",
       "  0.7916666865348816,\n",
       "  0.7833333611488342,\n",
       "  0.7916666865348816,\n",
       "  0.7916666865348816,\n",
       "  0.7916666865348816,\n",
       "  0.7833333611488342,\n",
       "  0.7916666865348816,\n",
       "  0.7916666865348816,\n",
       "  0.7916666865348816,\n",
       "  0.800000011920929,\n",
       "  0.800000011920929,\n",
       "  0.800000011920929,\n",
       "  0.800000011920929,\n",
       "  0.800000011920929,\n",
       "  0.800000011920929]}"
      ]
     },
     "execution_count": 16,
     "metadata": {},
     "output_type": "execute_result"
    }
   ],
   "source": [
    "history.history"
   ]
  },
  {
   "cell_type": "markdown",
   "metadata": {},
   "source": [
    "Now visualize the loss over time using `history.history`: "
   ]
  },
  {
   "cell_type": "code",
   "execution_count": 17,
   "metadata": {},
   "outputs": [
    {
     "data": {
      "text/plain": [
       "[Text(0, 0.5, 'Accuracy'), Text(0.5, 0, 'Epoch')]"
      ]
     },
     "execution_count": 17,
     "metadata": {},
     "output_type": "execute_result"
    },
    {
     "data": {
      "image/png": "[encoded data removed]",
      "text/plain": [
       "<Figure size 864x576 with 1 Axes>"
      ]
     },
     "metadata": {
      "needs_background": "light"
     },
     "output_type": "display_data"
    },
    {
     "data": {
      "image/png": "[encoded data removed]",
      "text/plain": [
       "<Figure size 864x576 with 1 Axes>"
      ]
     },
     "metadata": {
      "needs_background": "light"
     },
     "output_type": "display_data"
    }
   ],
   "source": [
    "# The history.history[\"loss\"] entry is a dictionary with as many values as epochs that the\n",
    "# model was trained on. \n",
    "df_loss_acc = pd.DataFrame(history.history)\n",
    "df_loss= df_loss_acc[['loss','val_loss']]\n",
    "df_loss.rename(columns={'loss':'train','val_loss':'validation'},inplace=True)\n",
    "df_acc= df_loss_acc[['accuracy','val_accuracy']]\n",
    "df_acc.rename(columns={'accuracy':'train','val_accuracy':'validation'},inplace=True)\n",
    "df_loss.plot(title='Model loss',figsize=(12,8)).set(xlabel='Epoch',ylabel='Loss')\n",
    "df_acc.plot(title='Model Accuracy',figsize=(12,8)).set(xlabel='Epoch',ylabel='Accuracy')"
   ]
  },
  {
   "cell_type": "markdown",
   "metadata": {},
   "source": [
    "**Congratulations**! You've finished the assignment and built two models: One that recognizes  smiles, and another that recognizes SIGN language with almost 80% accuracy on the test set. In addition to that, you now also understand the applications of two Keras APIs: Sequential and Functional. Nicely done! \n",
    "\n",
    "By now, you know a bit about how the Functional API works and may have glimpsed the possibilities. In your next assignment, you'll really get a feel for its power when you get the opportunity to build a very deep ConvNet, using ResNets! "
   ]
  },
  {
   "cell_type": "markdown",
   "metadata": {},
   "source": [
    "<a name='6'></a>\n",
    "## 6 - Bibliography\n",
    "\n",
    "You're always encouraged to read the official documentation. To that end, you can find the docs for the Sequential and Functional APIs here: \n",
    "\n",
    "https://www.tensorflow.org/guide/keras/sequential_model\n",
    "\n",
    "https://www.tensorflow.org/guide/keras/functional"
   ]
  }
 ],
 "metadata": {
  "coursera": {
   "course_slug": "convolutional-neural-networks",
   "graded_item_id": "bwbJV",
   "launcher_item_id": "0TkXB"
  },
  "kernelspec": {
   "display_name": "Python 3",
   "language": "python",
   "name": "python3"
  },
  "language_info": {
   "codemirror_mode": {
    "name": "ipython",
    "version": 3
   },
   "file_extension": ".py",
   "mimetype": "text/x-python",
   "name": "python",
   "nbconvert_exporter": "python",
   "pygments_lexer": "ipython3",
   "version": "3.7.6"
  }
 },
 "nbformat": 4,
 "nbformat_minor": 2
}
