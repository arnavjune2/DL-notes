{
  "nbformat": 4,
  "nbformat_minor": 0,
  "metadata": {
    "colab": {
      "name": "TransferLearning.ipynb",
      "provenance": [],
      "authorship_tag": "ABX9TyPmr7xww1zyfiU5UJOkT9YG",
      "include_colab_link": true
    },
    "kernelspec": {
      "name": "python3",
      "display_name": "Python 3"
    },
    "language_info": {
      "name": "python"
    },
    "accelerator": "GPU"
  },
  "cells": [
    {
      "cell_type": "markdown",
      "metadata": {
        "id": "view-in-github",
        "colab_type": "text"
      },
      "source": [
        "<a href=\"https://colab.research.google.com/github/arnavjune2/DL-notes/blob/main/TransferLearning.ipynb\" target=\"_parent\"><img src=\"https://colab.research.google.com/assets/colab-badge.svg\" alt=\"Open In Colab\"/></a>"
      ]
    },
    {
      "cell_type": "code",
      "execution_count": 1,
      "metadata": {
        "id": "pG9xckZKan0S"
      },
      "outputs": [],
      "source": [
        "import os\n",
        "import tensorflow as tf\n",
        "import numpy as np\n",
        "import matplotlib.pyplot as plt\n",
        "import seaborn as sns\n",
        "plt.style.use(\"fivethirtyeight\")\n",
        "%load_ext tensorboard"
      ]
    },
    {
      "cell_type": "code",
      "source": [
        "(X_train_full, y_train_full), (X_test, y_test)= tf.keras.datasets.fashion_mnist.load_data()\n",
        "X_train_full = X_train_full/255.0\n",
        "X_test = X_test/255.0\n",
        "X_valid , X_train = X_train_full[:5000], X_train_full[5000:]\n",
        "y_valid , y_train = y_train_full[:5000], y_train_full[5000:]"
      ],
      "metadata": {
        "colab": {
          "base_uri": "https://localhost:8080/"
        },
        "id": "T78oqmWMcInp",
        "outputId": "52f4f1fe-a880-4b2c-b7c8-0f2273ef5af5"
      },
      "execution_count": 2,
      "outputs": [
        {
          "output_type": "stream",
          "name": "stdout",
          "text": [
            "Downloading data from https://storage.googleapis.com/tensorflow/tf-keras-datasets/train-labels-idx1-ubyte.gz\n",
            "32768/29515 [=================================] - 0s 0us/step\n",
            "40960/29515 [=========================================] - 0s 0us/step\n",
            "Downloading data from https://storage.googleapis.com/tensorflow/tf-keras-datasets/train-images-idx3-ubyte.gz\n",
            "26427392/26421880 [==============================] - 0s 0us/step\n",
            "26435584/26421880 [==============================] - 0s 0us/step\n",
            "Downloading data from https://storage.googleapis.com/tensorflow/tf-keras-datasets/t10k-labels-idx1-ubyte.gz\n",
            "16384/5148 [===============================================================================================] - 0s 0us/step\n",
            "Downloading data from https://storage.googleapis.com/tensorflow/tf-keras-datasets/t10k-images-idx3-ubyte.gz\n",
            "4423680/4422102 [==============================] - 0s 0us/step\n",
            "4431872/4422102 [==============================] - 0s 0us/step\n"
          ]
        }
      ]
    },
    {
      "cell_type": "code",
      "source": [
        "LAYERS = [ tf.keras.layers.Flatten(input_shape=[28, 28]),\n",
        "    tf.keras.layers.Dense(300, kernel_initializer=\"he_normal\"),\n",
        "    tf.keras.layers.LeakyReLU(),\n",
        "    tf.keras.layers.Dense(100, kernel_initializer=\"he_normal\"),\n",
        "    tf.keras.layers.LeakyReLU(),\n",
        "    tf.keras.layers.Dense(10, activation=\"softmax\")]\n",
        "\n",
        "\n",
        "model = tf.keras.models.Sequential(LAYERS)"
      ],
      "metadata": {
        "id": "847o9FCydGnm"
      },
      "execution_count": 3,
      "outputs": []
    },
    {
      "cell_type": "code",
      "source": [
        "model.compile(loss=\"sparse_categorical_crossentropy\",\n",
        "              optimizer=tf.keras.optimizers.SGD(learning_rate=1e-3),\n",
        "              metrics=[\"accuracy\"])"
      ],
      "metadata": {
        "id": "bBWB1wAvhDHN"
      },
      "execution_count": 4,
      "outputs": []
    },
    {
      "cell_type": "code",
      "source": [
        "model.summary()"
      ],
      "metadata": {
        "colab": {
          "base_uri": "https://localhost:8080/"
        },
        "id": "7aYA7XqzhGC0",
        "outputId": "c87e46eb-fb67-4094-b97e-cb5fc982ca4e"
      },
      "execution_count": 5,
      "outputs": [
        {
          "output_type": "stream",
          "name": "stdout",
          "text": [
            "Model: \"sequential\"\n",
            "_________________________________________________________________\n",
            " Layer (type)                Output Shape              Param #   \n",
            "=================================================================\n",
            " flatten (Flatten)           (None, 784)               0         \n",
            "                                                                 \n",
            " dense (Dense)               (None, 300)               235500    \n",
            "                                                                 \n",
            " leaky_re_lu (LeakyReLU)     (None, 300)               0         \n",
            "                                                                 \n",
            " dense_1 (Dense)             (None, 100)               30100     \n",
            "                                                                 \n",
            " leaky_re_lu_1 (LeakyReLU)   (None, 100)               0         \n",
            "                                                                 \n",
            " dense_2 (Dense)             (None, 10)                1010      \n",
            "                                                                 \n",
            "=================================================================\n",
            "Total params: 266,610\n",
            "Trainable params: 266,610\n",
            "Non-trainable params: 0\n",
            "_________________________________________________________________\n"
          ]
        }
      ]
    },
    {
      "cell_type": "code",
      "source": [
        "history = model.fit(X_train, y_train, epochs=10,\n",
        "                    validation_data=(X_valid, y_valid), verbose=2)"
      ],
      "metadata": {
        "colab": {
          "base_uri": "https://localhost:8080/"
        },
        "id": "azsyEd5fhMPY",
        "outputId": "edaf1e45-761d-4d5c-b23f-cd93f158317a"
      },
      "execution_count": 6,
      "outputs": [
        {
          "output_type": "stream",
          "name": "stdout",
          "text": [
            "Epoch 1/10\n",
            "1719/1719 - 11s - loss: 1.2770 - accuracy: 0.6113 - val_loss: 0.8830 - val_accuracy: 0.7120 - 11s/epoch - 7ms/step\n",
            "Epoch 2/10\n",
            "1719/1719 - 5s - loss: 0.8016 - accuracy: 0.7305 - val_loss: 0.7202 - val_accuracy: 0.7624 - 5s/epoch - 3ms/step\n",
            "Epoch 3/10\n",
            "1719/1719 - 5s - loss: 0.6908 - accuracy: 0.7696 - val_loss: 0.6438 - val_accuracy: 0.7856 - 5s/epoch - 3ms/step\n",
            "Epoch 4/10\n",
            "1719/1719 - 5s - loss: 0.6307 - accuracy: 0.7884 - val_loss: 0.5983 - val_accuracy: 0.8004 - 5s/epoch - 3ms/step\n",
            "Epoch 5/10\n",
            "1719/1719 - 5s - loss: 0.5909 - accuracy: 0.8018 - val_loss: 0.5653 - val_accuracy: 0.8090 - 5s/epoch - 3ms/step\n",
            "Epoch 6/10\n",
            "1719/1719 - 5s - loss: 0.5623 - accuracy: 0.8101 - val_loss: 0.5420 - val_accuracy: 0.8196 - 5s/epoch - 3ms/step\n",
            "Epoch 7/10\n",
            "1719/1719 - 5s - loss: 0.5403 - accuracy: 0.8170 - val_loss: 0.5249 - val_accuracy: 0.8252 - 5s/epoch - 3ms/step\n",
            "Epoch 8/10\n",
            "1719/1719 - 5s - loss: 0.5231 - accuracy: 0.8223 - val_loss: 0.5075 - val_accuracy: 0.8358 - 5s/epoch - 3ms/step\n",
            "Epoch 9/10\n",
            "1719/1719 - 5s - loss: 0.5093 - accuracy: 0.8265 - val_loss: 0.4935 - val_accuracy: 0.8354 - 5s/epoch - 3ms/step\n",
            "Epoch 10/10\n",
            "1719/1719 - 5s - loss: 0.4972 - accuracy: 0.8293 - val_loss: 0.4837 - val_accuracy: 0.8388 - 5s/epoch - 3ms/step\n"
          ]
        }
      ]
    },
    {
      "cell_type": "code",
      "source": [
        "model.save(\"pretrained_mnist_model.h5\")"
      ],
      "metadata": {
        "id": "8zElZmDpjatc"
      },
      "execution_count": 8,
      "outputs": []
    },
    {
      "cell_type": "markdown",
      "source": [
        "# Transfer learning \n",
        "\n",
        "## New Problem statement - \n",
        "\n",
        "Classify handwritten digits into odd and even\n"
      ],
      "metadata": {
        "id": "BmnmlPZbOImR"
      }
    },
    {
      "cell_type": "code",
      "source": [
        "pretrained_mnist_model = tf.keras.models.load_model(\"pretrained_mnist_model.h5\")"
      ],
      "metadata": {
        "id": "lO5M4ZlGOFek"
      },
      "execution_count": 9,
      "outputs": []
    },
    {
      "cell_type": "code",
      "source": [
        "pretrained_mnist_model.summary()"
      ],
      "metadata": {
        "colab": {
          "base_uri": "https://localhost:8080/"
        },
        "id": "b8muXNYsPhCh",
        "outputId": "86f5d30a-39ca-4dd3-8769-f6c36caabb3c"
      },
      "execution_count": 11,
      "outputs": [
        {
          "output_type": "stream",
          "name": "stdout",
          "text": [
            "Model: \"sequential\"\n",
            "_________________________________________________________________\n",
            " Layer (type)                Output Shape              Param #   \n",
            "=================================================================\n",
            " flatten (Flatten)           (None, 784)               0         \n",
            "                                                                 \n",
            " dense (Dense)               (None, 300)               235500    \n",
            "                                                                 \n",
            " leaky_re_lu (LeakyReLU)     (None, 300)               0         \n",
            "                                                                 \n",
            " dense_1 (Dense)             (None, 100)               30100     \n",
            "                                                                 \n",
            " leaky_re_lu_1 (LeakyReLU)   (None, 100)               0         \n",
            "                                                                 \n",
            " dense_2 (Dense)             (None, 10)                1010      \n",
            "                                                                 \n",
            "=================================================================\n",
            "Total params: 266,610\n",
            "Trainable params: 266,610\n",
            "Non-trainable params: 0\n",
            "_________________________________________________________________\n"
          ]
        }
      ]
    },
    {
      "cell_type": "code",
      "source": [
        "for layer in pretrained_mnist_model.layers:\n",
        "  print( layer)\n",
        "  print(layer.name, layer.trainable)"
      ],
      "metadata": {
        "colab": {
          "base_uri": "https://localhost:8080/"
        },
        "id": "e4CTUD_oPq6y",
        "outputId": "e8ed795c-dd85-494a-ce53-781607804f64"
      },
      "execution_count": 21,
      "outputs": [
        {
          "output_type": "stream",
          "name": "stdout",
          "text": [
            "<keras.layers.core.flatten.Flatten object at 0x7fccb03a6690>\n",
            "flatten True\n",
            "<keras.layers.core.dense.Dense object at 0x7fccb04c2690>\n",
            "dense True\n",
            "<keras.layers.advanced_activations.LeakyReLU object at 0x7fccb0339610>\n",
            "leaky_re_lu True\n",
            "<keras.layers.core.dense.Dense object at 0x7fccb0488150>\n",
            "dense_1 True\n",
            "<keras.layers.advanced_activations.LeakyReLU object at 0x7fccb04a5f50>\n",
            "leaky_re_lu_1 True\n",
            "<keras.layers.core.dense.Dense object at 0x7fccb039bc50>\n",
            "dense_2 True\n"
          ]
        }
      ]
    },
    {
      "cell_type": "code",
      "source": [
        "for layer in pretrained_mnist_model.layers[:-1]: #freezing all the layers except the last one==> trainable\n",
        "  layer.trainable = False                        #freezing the layers from getting trained\n",
        "  print(layer.name, layer.trainable)"
      ],
      "metadata": {
        "colab": {
          "base_uri": "https://localhost:8080/"
        },
        "id": "UZUoPJNTQHSZ",
        "outputId": "fc1c1c99-b83e-46f2-b2ec-3ab5f827559c"
      },
      "execution_count": 22,
      "outputs": [
        {
          "output_type": "stream",
          "name": "stdout",
          "text": [
            "flatten False\n",
            "dense False\n",
            "leaky_re_lu False\n",
            "dense_1 False\n",
            "leaky_re_lu_1 False\n"
          ]
        }
      ]
    },
    {
      "cell_type": "code",
      "source": [
        "for layer in pretrained_mnist_model.layers:\n",
        "  print(f\"{layer.name}: {layer.trainable}\")"
      ],
      "metadata": {
        "colab": {
          "base_uri": "https://localhost:8080/"
        },
        "id": "Wt-R2c8wRIA9",
        "outputId": "1ca4100c-a36a-4d2f-af75-f0a88cc49abe"
      },
      "execution_count": 23,
      "outputs": [
        {
          "output_type": "stream",
          "name": "stdout",
          "text": [
            "flatten: False\n",
            "dense: False\n",
            "leaky_re_lu: False\n",
            "dense_1: False\n",
            "leaky_re_lu_1: False\n",
            "dense_2: True\n"
          ]
        }
      ]
    },
    {
      "cell_type": "code",
      "source": [
        "try:\n",
        "  del new_model\n",
        "except: pass"
      ],
      "metadata": {
        "id": "MvXo9XeoRPrF"
      },
      "execution_count": 24,
      "outputs": []
    },
    {
      "cell_type": "code",
      "source": [
        "lower_pretrained_layers = pretrained_mnist_model.layers[:-1] #all layers except the last one\n",
        "\n",
        "new_model = tf.keras.models.Sequential(lower_pretrained_layers)\n",
        "\n",
        "new_model.add(\n",
        "    tf.keras.layers.Dense(2, activation=\"softmax\")\n",
        ")"
      ],
      "metadata": {
        "id": "dqirtfyqRavf"
      },
      "execution_count": 25,
      "outputs": []
    },
    {
      "cell_type": "code",
      "source": [
        "new_model.summary()"
      ],
      "metadata": {
        "colab": {
          "base_uri": "https://localhost:8080/"
        },
        "id": "oVNSEUIqSQhq",
        "outputId": "9230ef05-6e8a-4207-da38-4aaef2553b55"
      },
      "execution_count": 26,
      "outputs": [
        {
          "output_type": "stream",
          "name": "stdout",
          "text": [
            "Model: \"sequential_1\"\n",
            "_________________________________________________________________\n",
            " Layer (type)                Output Shape              Param #   \n",
            "=================================================================\n",
            " flatten (Flatten)           (None, 784)               0         \n",
            "                                                                 \n",
            " dense (Dense)               (None, 300)               235500    \n",
            "                                                                 \n",
            " leaky_re_lu (LeakyReLU)     (None, 300)               0         \n",
            "                                                                 \n",
            " dense_1 (Dense)             (None, 100)               30100     \n",
            "                                                                 \n",
            " leaky_re_lu_1 (LeakyReLU)   (None, 100)               0         \n",
            "                                                                 \n",
            " dense_3 (Dense)             (None, 2)                 202       \n",
            "                                                                 \n",
            "=================================================================\n",
            "Total params: 265,802\n",
            "Trainable params: 202\n",
            "Non-trainable params: 265,600\n",
            "_________________________________________________________________\n"
          ]
        }
      ]
    },
    {
      "cell_type": "code",
      "source": [
        "#now upadating the label for the data as we want to seperate odd one and even one!\n",
        "def update_labels(labels:list):\n",
        "  for index , label in enumerate(labels):\n",
        "    labels[index] = np.where(label%2==0, 1 , 0)\n",
        "  return labels\n"
      ],
      "metadata": {
        "id": "m4CSCbU0ST8g"
      },
      "execution_count": 29,
      "outputs": []
    },
    {
      "cell_type": "code",
      "source": [
        "y_train_bin, y_test_bin, y_valid_bin = update_labels([y_train, y_test, y_valid])"
      ],
      "metadata": {
        "id": "N2lNqO_RUTqL"
      },
      "execution_count": 30,
      "outputs": []
    },
    {
      "cell_type": "code",
      "source": [
        "np.unique(y_train_bin)"
      ],
      "metadata": {
        "colab": {
          "base_uri": "https://localhost:8080/"
        },
        "id": "kP17_DeYUWo-",
        "outputId": "15c1d865-2b67-45ed-f424-4ba7c6d89c2b"
      },
      "execution_count": 33,
      "outputs": [
        {
          "output_type": "execute_result",
          "data": {
            "text/plain": [
              "array([0, 1])"
            ]
          },
          "metadata": {},
          "execution_count": 33
        }
      ]
    },
    {
      "cell_type": "code",
      "source": [
        "new_model.compile(\n",
        "    loss=\"sparse_categorical_crossentropy\",\n",
        "    optimizer=\"SGD\",\n",
        "    metrics=[\"accuracy\"]\n",
        ")"
      ],
      "metadata": {
        "id": "wJqo4jTeUg3n"
      },
      "execution_count": 35,
      "outputs": []
    },
    {
      "cell_type": "code",
      "source": [
        "history = new_model.fit(X_train, y_train_bin, epochs=10,\n",
        "                    validation_data=(X_valid, y_valid_bin), verbose=2)"
      ],
      "metadata": {
        "colab": {
          "base_uri": "https://localhost:8080/"
        },
        "id": "SXz2DpCiVF49",
        "outputId": "813d4cad-3736-4cdf-ff80-c6de8130b222"
      },
      "execution_count": 36,
      "outputs": [
        {
          "output_type": "stream",
          "name": "stdout",
          "text": [
            "Epoch 1/10\n",
            "1719/1719 - 5s - loss: 0.1450 - accuracy: 0.9495 - val_loss: 0.1279 - val_accuracy: 0.9568 - 5s/epoch - 3ms/step\n",
            "Epoch 2/10\n",
            "1719/1719 - 4s - loss: 0.1228 - accuracy: 0.9567 - val_loss: 0.1224 - val_accuracy: 0.9610 - 4s/epoch - 2ms/step\n",
            "Epoch 3/10\n",
            "1719/1719 - 4s - loss: 0.1194 - accuracy: 0.9581 - val_loss: 0.1198 - val_accuracy: 0.9604 - 4s/epoch - 3ms/step\n",
            "Epoch 4/10\n",
            "1719/1719 - 5s - loss: 0.1175 - accuracy: 0.9588 - val_loss: 0.1191 - val_accuracy: 0.9598 - 5s/epoch - 3ms/step\n",
            "Epoch 5/10\n",
            "1719/1719 - 5s - loss: 0.1158 - accuracy: 0.9594 - val_loss: 0.1197 - val_accuracy: 0.9586 - 5s/epoch - 3ms/step\n",
            "Epoch 6/10\n",
            "1719/1719 - 4s - loss: 0.1147 - accuracy: 0.9594 - val_loss: 0.1157 - val_accuracy: 0.9616 - 4s/epoch - 2ms/step\n",
            "Epoch 7/10\n",
            "1719/1719 - 4s - loss: 0.1136 - accuracy: 0.9599 - val_loss: 0.1148 - val_accuracy: 0.9614 - 4s/epoch - 3ms/step\n",
            "Epoch 8/10\n",
            "1719/1719 - 4s - loss: 0.1129 - accuracy: 0.9601 - val_loss: 0.1139 - val_accuracy: 0.9610 - 4s/epoch - 2ms/step\n",
            "Epoch 9/10\n",
            "1719/1719 - 4s - loss: 0.1122 - accuracy: 0.9602 - val_loss: 0.1133 - val_accuracy: 0.9614 - 4s/epoch - 3ms/step\n",
            "Epoch 10/10\n",
            "1719/1719 - 4s - loss: 0.1116 - accuracy: 0.9606 - val_loss: 0.1146 - val_accuracy: 0.9602 - 4s/epoch - 3ms/step\n"
          ]
        }
      ]
    },
    {
      "cell_type": "code",
      "source": [
        "new_model.evaluate(X_test, y_test_bin)"
      ],
      "metadata": {
        "colab": {
          "base_uri": "https://localhost:8080/"
        },
        "id": "3MyUP1E2VO7e",
        "outputId": "52578a71-3b67-43f7-9e68-8ca5accc4b8c"
      },
      "execution_count": 37,
      "outputs": [
        {
          "output_type": "stream",
          "name": "stdout",
          "text": [
            "313/313 [==============================] - 1s 4ms/step - loss: 0.1201 - accuracy: 0.9586\n"
          ]
        },
        {
          "output_type": "execute_result",
          "data": {
            "text/plain": [
              "[0.12007737159729004, 0.9585999846458435]"
            ]
          },
          "metadata": {},
          "execution_count": 37
        }
      ]
    },
    {
      "cell_type": "code",
      "source": [
        ""
      ],
      "metadata": {
        "id": "rOX4TIGFVynF"
      },
      "execution_count": null,
      "outputs": []
    }
  ]
}