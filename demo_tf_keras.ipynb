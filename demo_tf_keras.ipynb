{
  "cells": [
    {
      "cell_type": "markdown",
      "metadata": {
        "id": "view-in-github",
        "colab_type": "text"
      },
      "source": [
        "<a href=\"https://colab.research.google.com/github/arnavjune2/DL-notes/blob/main/demo_tf_keras.ipynb\" target=\"_parent\"><img src=\"https://colab.research.google.com/assets/colab-badge.svg\" alt=\"Open In Colab\"/></a>"
      ]
    },
    {
      "cell_type": "code",
      "execution_count": null,
      "metadata": {
        "id": "iReC86czZ2oU"
      },
      "outputs": [],
      "source": [
        "import os\n",
        "os.chdir('/content/drive/MyDrive/iNeuron DL')"
      ]
    },
    {
      "cell_type": "code",
      "execution_count": null,
      "metadata": {
        "colab": {
          "base_uri": "https://localhost:8080/",
          "height": 36
        },
        "id": "BG9AtVLCZ8jq",
        "outputId": "02cc97a0-17a5-4845-94ce-4d8b172e7bff"
      },
      "outputs": [
        {
          "data": {
            "application/vnd.google.colaboratory.intrinsic+json": {
              "type": "string"
            },
            "text/plain": [
              "'/content/drive/MyDrive/iNeuron DL'"
            ]
          },
          "execution_count": 48,
          "metadata": {},
          "output_type": "execute_result"
        }
      ],
      "source": [
        "os.getcwd()"
      ]
    },
    {
      "cell_type": "code",
      "execution_count": null,
      "metadata": {
        "colab": {
          "base_uri": "https://localhost:8080/"
        },
        "id": "6INOslHZaehV",
        "outputId": "c4a6d43e-838f-428b-aaca-fcb838139ae7"
      },
      "outputs": [
        {
          "name": "stdout",
          "output_type": "stream",
          "text": [
            "test.h5\n"
          ]
        }
      ],
      "source": [
        "!ls"
      ]
    },
    {
      "cell_type": "code",
      "execution_count": null,
      "metadata": {
        "id": "1XIa74870CjA"
      },
      "outputs": [],
      "source": [
        "import tensorflow as tf\n",
        "import numpy as np\n",
        "import matplotlib.pyplot as plt\n",
        "import pandas as pd\n",
        "import seaborn as sns"
      ]
    },
    {
      "cell_type": "code",
      "execution_count": null,
      "metadata": {
        "id": "6RizcNqLZ1KB"
      },
      "outputs": [],
      "source": [
        ""
      ]
    },
    {
      "cell_type": "code",
      "execution_count": null,
      "metadata": {
        "colab": {
          "base_uri": "https://localhost:8080/",
          "height": 36
        },
        "id": "jlsK1Lwk2-vO",
        "outputId": "b26434cb-dee4-4d21-fa27-91d51301f8bf"
      },
      "outputs": [
        {
          "data": {
            "application/vnd.google.colaboratory.intrinsic+json": {
              "type": "string"
            },
            "text/plain": [
              "'2.7.0'"
            ]
          },
          "execution_count": 42,
          "metadata": {},
          "output_type": "execute_result"
        }
      ],
      "source": [
        "tf.__version__"
      ]
    },
    {
      "cell_type": "code",
      "execution_count": null,
      "metadata": {
        "colab": {
          "base_uri": "https://localhost:8080/"
        },
        "id": "qu-hjU8T3CVW",
        "outputId": "0d723ca4-05d1-4dee-8ee7-dd0b86a6c524"
      },
      "outputs": [
        {
          "data": {
            "text/plain": [
              "[PhysicalDevice(name='/physical_device:GPU:0', device_type='GPU')]"
            ]
          },
          "execution_count": 43,
          "metadata": {},
          "output_type": "execute_result"
        }
      ],
      "source": [
        "tf.config.list_physical_devices(\"GPU\")"
      ]
    },
    {
      "cell_type": "code",
      "execution_count": null,
      "metadata": {
        "colab": {
          "base_uri": "https://localhost:8080/"
        },
        "id": "SX4YDE3Y3KjI",
        "outputId": "8d9701ca-cfb5-4587-e5e5-5d91e167a0be"
      },
      "outputs": [
        {
          "name": "stdout",
          "output_type": "stream",
          "text": [
            "Wed Feb  2 16:44:11 2022       \n",
            "+-----------------------------------------------------------------------------+\n",
            "| NVIDIA-SMI 495.46       Driver Version: 460.32.03    CUDA Version: 11.2     |\n",
            "|-------------------------------+----------------------+----------------------+\n",
            "| GPU  Name        Persistence-M| Bus-Id        Disp.A | Volatile Uncorr. ECC |\n",
            "| Fan  Temp  Perf  Pwr:Usage/Cap|         Memory-Usage | GPU-Util  Compute M. |\n",
            "|                               |                      |               MIG M. |\n",
            "|===============================+======================+======================|\n",
            "|   0  Tesla K80           Off  | 00000000:00:04.0 Off |                    0 |\n",
            "| N/A   33C    P8    29W / 149W |      0MiB / 11441MiB |      0%      Default |\n",
            "|                               |                      |                  N/A |\n",
            "+-------------------------------+----------------------+----------------------+\n",
            "                                                                               \n",
            "+-----------------------------------------------------------------------------+\n",
            "| Processes:                                                                  |\n",
            "|  GPU   GI   CI        PID   Type   Process name                  GPU Memory |\n",
            "|        ID   ID                                                   Usage      |\n",
            "|=============================================================================|\n",
            "|  No running processes found                                                 |\n",
            "+-----------------------------------------------------------------------------+\n"
          ]
        }
      ],
      "source": [
        "#gives details of the graphic card\n",
        "!nvidia-smi"
      ]
    },
    {
      "cell_type": "code",
      "execution_count": null,
      "metadata": {
        "colab": {
          "base_uri": "https://localhost:8080/",
          "height": 36
        },
        "id": "6GnncIMl3nac",
        "outputId": "48cb8315-07a9-4082-ec3e-8811fccdedc2"
      },
      "outputs": [
        {
          "data": {
            "application/vnd.google.colaboratory.intrinsic+json": {
              "type": "string"
            },
            "text/plain": [
              "'2.7.0'"
            ]
          },
          "execution_count": 27,
          "metadata": {},
          "output_type": "execute_result"
        }
      ],
      "source": [
        "tf.keras.__version__"
      ]
    },
    {
      "cell_type": "code",
      "execution_count": null,
      "metadata": {
        "id": "7fPDVPCb4cGH"
      },
      "outputs": [],
      "source": [
        "mnist = tf.keras.datasets.mnist"
      ]
    },
    {
      "cell_type": "code",
      "execution_count": null,
      "metadata": {
        "colab": {
          "base_uri": "https://localhost:8080/"
        },
        "id": "KeHRyfY64wlW",
        "outputId": "bbb1e328-0ba0-46cf-a344-8a42680cfa2b"
      },
      "outputs": [
        {
          "name": "stdout",
          "output_type": "stream",
          "text": [
            "Downloading data from https://storage.googleapis.com/tensorflow/tf-keras-datasets/mnist.npz\n",
            "11493376/11490434 [==============================] - 0s 0us/step\n",
            "11501568/11490434 [==============================] - 0s 0us/step\n"
          ]
        }
      ],
      "source": [
        "(X_train_full, y_train_full), (X_test, y_test) =  mnist.load_data()"
      ]
    },
    {
      "cell_type": "code",
      "execution_count": null,
      "metadata": {
        "colab": {
          "base_uri": "https://localhost:8080/"
        },
        "id": "Mw-0Aw1g49Ih",
        "outputId": "77226416-2c6a-48d4-996c-14fb639c2904"
      },
      "outputs": [
        {
          "data": {
            "text/plain": [
              "(60000, 28, 28)"
            ]
          },
          "execution_count": 30,
          "metadata": {},
          "output_type": "execute_result"
        }
      ],
      "source": [
        "X_train_full.shape #60,000 data points of 28*28 size images"
      ]
    },
    {
      "cell_type": "code",
      "execution_count": null,
      "metadata": {
        "colab": {
          "base_uri": "https://localhost:8080/",
          "height": 284
        },
        "id": "LspfFZLe5UYc",
        "outputId": "8bd58db4-0c60-4f14-819c-d65dcb72fdce"
      },
      "outputs": [
        {
          "data": {
            "text/plain": [
              "<matplotlib.image.AxesImage at 0x7f3a1ae47110>"
            ]
          },
          "execution_count": 49,
          "metadata": {},
          "output_type": "execute_result"
        },
        {
          "data": {
            "image/png": "[encoded data removed]",
            "text/plain": [
              "<Figure size 432x288 with 1 Axes>"
            ]
          },
          "metadata": {},
          "output_type": "display_data"
        }
      ],
      "source": [
        "img = X_train_full[0]\n",
        "plt.imshow(img,  cmap=\"binary\")"
      ]
    },
    {
      "cell_type": "code",
      "execution_count": null,
      "metadata": {
        "colab": {
          "base_uri": "https://localhost:8080/",
          "height": 883
        },
        "id": "-kmYThwO86z2",
        "outputId": "36545069-f6c1-41ec-d370-3eec99ce7810"
      },
      "outputs": [
        {
          "data": {
            "text/plain": [
              "<matplotlib.axes._subplots.AxesSubplot at 0x7f3a92b11490>"
            ]
          },
          "execution_count": 50,
          "metadata": {},
          "output_type": "execute_result"
        },
        {
          "data": {
            "image/png": "[encoded data removed]",
            "text/plain": [
              "<Figure size 1440x1440 with 2 Axes>"
            ]
          },
          "metadata": {},
          "output_type": "display_data"
        }
      ],
      "source": [
        "plt.figure(figsize=(20,20))\n",
        "sns.heatmap(img/255, annot=True, cmap='binary')"
      ]
    },
    {
      "cell_type": "markdown",
      "metadata": {
        "id": "VREp_IvTbyP-"
      },
      "source": [
        "# TensorBoard\n",
        "### write images into the TensorBoards for visulaisation"
      ]
    },
    {
      "cell_type": "code",
      "execution_count": null,
      "metadata": {
        "colab": {
          "background_save": true,
          "base_uri": "https://localhost:8080/",
          "height": 36
        },
        "id": "GOp502mwcLsb",
        "outputId": "e323fcae-8f5b-4a16-b55e-b93e8b28e00b"
      },
      "outputs": [
        {
          "name": "stdout",
          "output_type": "stream",
          "text": [
            "saving logs at: logs/fit/Wed_Feb__2_172533_2022\n"
          ]
        }
      ],
      "source": [
        "###Create a log dir for tensorboard logs\n",
        "import time\n",
        "def get_log_path(base_Log_dir=\"logs/fit\"):\n",
        "  uniqueName = time.asctime().replace(\" \", \"_\").replace(\":\", \"\")\n",
        "  log_path = os.path.join(base_Log_dir, uniqueName)\n",
        "  print(f\"saving logs at: {log_path}\")\n",
        "  return log_path"
      ]
    },
    {
      "cell_type": "code",
      "execution_count": null,
      "metadata": {
        "id": "Wo9egT7e9uBv"
      },
      "outputs": [],
      "source": [
        "X_valid, X_train = X_train_full[:5000] /255 , X_train_full[5000:] /255\n",
        "y_valid, y_train = y_train_full[:5000], y_train_full[5000:]"
      ]
    },
    {
      "cell_type": "code",
      "execution_count": null,
      "metadata": {
        "id": "BnhSwgoaPb4V"
      },
      "outputs": [],
      "source": [
        "X_test = X_test/255"
      ]
    },
    {
      "cell_type": "code",
      "execution_count": null,
      "metadata": {
        "id": "5gCHv6JYPfwQ"
      },
      "outputs": [],
      "source": [
        "CLASSES= 10\n",
        "#first we will perform flattening operation\n",
        "LAYERS=[\n",
        "        tf.keras.layers.Flatten(input_shape=(28,28), name=\"inputLayer\"),\n",
        "        tf.keras.layers.Dense(300, activation=\"relu\", name=\"hiddenLayer1\"),\n",
        "        tf.keras.layers.Dense(100, activation=\"relu\", name=\"hiddenLayer2\"),\n",
        "        tf.keras.layers.Dense(CLASSES, activation=\"softmax\", name=\"outputLayer\")\n",
        "]"
      ]
    },
    {
      "cell_type": "code",
      "execution_count": null,
      "metadata": {
        "id": "r2pEKCz1htGf"
      },
      "outputs": [],
      "source": [
        "model_clf= tf.keras.models.Sequential(LAYERS)"
      ]
    },
    {
      "cell_type": "code",
      "execution_count": null,
      "metadata": {
        "colab": {
          "base_uri": "https://localhost:8080/"
        },
        "id": "kpaHzA-Rh84q",
        "outputId": "767ed66e-4aa5-45e1-fbfb-b8cb6e967a0c"
      },
      "outputs": [
        {
          "data": {
            "text/plain": [
              "[<keras.layers.core.flatten.Flatten at 0x7f1d91ed7a50>,\n",
              " <keras.layers.core.dense.Dense at 0x7f1d91ef9410>,\n",
              " <keras.layers.core.dense.Dense at 0x7f1d92565810>,\n",
              " <keras.layers.core.dense.Dense at 0x7f1d92565cd0>]"
            ]
          },
          "execution_count": 35,
          "metadata": {},
          "output_type": "execute_result"
        }
      ],
      "source": [
        "model_clf.layers"
      ]
    },
    {
      "cell_type": "code",
      "execution_count": null,
      "metadata": {
        "colab": {
          "base_uri": "https://localhost:8080/"
        },
        "id": "8sdh_oaZiAaI",
        "outputId": "f029e16d-3943-441a-d2f2-f379b741a120"
      },
      "outputs": [
        {
          "name": "stdout",
          "output_type": "stream",
          "text": [
            "Model: \"sequential\"\n",
            "_________________________________________________________________\n",
            " Layer (type)                Output Shape              Param #   \n",
            "=================================================================\n",
            " inputLayer (Flatten)        (None, 784)               0         \n",
            "                                                                 \n",
            " hiddenLayer1 (Dense)        (None, 300)               235500    \n",
            "                                                                 \n",
            " hiddenLayer2 (Dense)        (None, 100)               30100     \n",
            "                                                                 \n",
            " outputLayer (Dense)         (None, 10)                1010      \n",
            "                                                                 \n",
            "=================================================================\n",
            "Total params: 266,610\n",
            "Trainable params: 266,610\n",
            "Non-trainable params: 0\n",
            "_________________________________________________________________\n"
          ]
        }
      ],
      "source": [
        "model_clf.summary()"
      ]
    },
    {
      "cell_type": "code",
      "execution_count": null,
      "metadata": {
        "id": "tv5aOCGBiFW_"
      },
      "outputs": [],
      "source": [
        "LOSS_FUNCTION = \"sparse_categorical_crossentropy\"\n",
        "OPTIMIZER = \"SGD\"\n",
        "METRICS = [\"accuracy\"]\n",
        "\n",
        "model_clf.compile(loss= LOSS_FUNCTION,\n",
        "                  optimizer=OPTIMIZER,\n",
        "                  metrics= METRICS)"
      ]
    },
    {
      "cell_type": "code",
      "execution_count": null,
      "metadata": {
        "colab": {
          "base_uri": "https://localhost:8080/"
        },
        "id": "v-R715oB0iOR",
        "outputId": "24509a35-e7af-48f2-919b-c0120cd383f5"
      },
      "outputs": [
        {
          "name": "stdout",
          "output_type": "stream",
          "text": [
            "Epoch 1/30\n",
            "1719/1719 [==============================] - 8s 4ms/step - loss: 0.6015 - accuracy: 0.8468 - val_loss: 0.3096 - val_accuracy: 0.9174\n",
            "Epoch 2/30\n",
            "1719/1719 [==============================] - 7s 4ms/step - loss: 0.2911 - accuracy: 0.9171 - val_loss: 0.2413 - val_accuracy: 0.9332\n",
            "Epoch 3/30\n",
            "1719/1719 [==============================] - 7s 4ms/step - loss: 0.2382 - accuracy: 0.9327 - val_loss: 0.2044 - val_accuracy: 0.9452\n",
            "Epoch 4/30\n",
            "1719/1719 [==============================] - 6s 4ms/step - loss: 0.2032 - accuracy: 0.9418 - val_loss: 0.1787 - val_accuracy: 0.9512\n",
            "Epoch 5/30\n",
            "1719/1719 [==============================] - 6s 4ms/step - loss: 0.1774 - accuracy: 0.9495 - val_loss: 0.1625 - val_accuracy: 0.9554\n",
            "Epoch 6/30\n",
            "1719/1719 [==============================] - 6s 4ms/step - loss: 0.1575 - accuracy: 0.9552 - val_loss: 0.1455 - val_accuracy: 0.9600\n",
            "Epoch 7/30\n",
            "1719/1719 [==============================] - 6s 4ms/step - loss: 0.1411 - accuracy: 0.9595 - val_loss: 0.1351 - val_accuracy: 0.9638\n",
            "Epoch 8/30\n",
            "1719/1719 [==============================] - 6s 4ms/step - loss: 0.1272 - accuracy: 0.9646 - val_loss: 0.1265 - val_accuracy: 0.9658\n",
            "Epoch 9/30\n",
            "1719/1719 [==============================] - 6s 4ms/step - loss: 0.1160 - accuracy: 0.9672 - val_loss: 0.1170 - val_accuracy: 0.9676\n",
            "Epoch 10/30\n",
            "1719/1719 [==============================] - 6s 4ms/step - loss: 0.1058 - accuracy: 0.9708 - val_loss: 0.1119 - val_accuracy: 0.9718\n",
            "Epoch 11/30\n",
            "1719/1719 [==============================] - 6s 4ms/step - loss: 0.0975 - accuracy: 0.9729 - val_loss: 0.1120 - val_accuracy: 0.9682\n",
            "Epoch 12/30\n",
            "1719/1719 [==============================] - 6s 4ms/step - loss: 0.0898 - accuracy: 0.9752 - val_loss: 0.1064 - val_accuracy: 0.9694\n",
            "Epoch 13/30\n",
            "1719/1719 [==============================] - 6s 4ms/step - loss: 0.0832 - accuracy: 0.9768 - val_loss: 0.0962 - val_accuracy: 0.9734\n",
            "Epoch 14/30\n",
            "1719/1719 [==============================] - 6s 4ms/step - loss: 0.0771 - accuracy: 0.9790 - val_loss: 0.0971 - val_accuracy: 0.9708\n",
            "Epoch 15/30\n",
            "1719/1719 [==============================] - 6s 4ms/step - loss: 0.0713 - accuracy: 0.9806 - val_loss: 0.0892 - val_accuracy: 0.9738\n",
            "Epoch 16/30\n",
            "1719/1719 [==============================] - 6s 3ms/step - loss: 0.0666 - accuracy: 0.9823 - val_loss: 0.0862 - val_accuracy: 0.9740\n",
            "Epoch 17/30\n",
            "1719/1719 [==============================] - 6s 4ms/step - loss: 0.0618 - accuracy: 0.9834 - val_loss: 0.0879 - val_accuracy: 0.9732\n",
            "Epoch 18/30\n",
            "1719/1719 [==============================] - 6s 4ms/step - loss: 0.0579 - accuracy: 0.9844 - val_loss: 0.0820 - val_accuracy: 0.9744\n",
            "Epoch 19/30\n",
            "1719/1719 [==============================] - 6s 4ms/step - loss: 0.0543 - accuracy: 0.9852 - val_loss: 0.0799 - val_accuracy: 0.9764\n",
            "Epoch 20/30\n",
            "1719/1719 [==============================] - 6s 4ms/step - loss: 0.0506 - accuracy: 0.9865 - val_loss: 0.0807 - val_accuracy: 0.9754\n",
            "Epoch 21/30\n",
            "1719/1719 [==============================] - 6s 4ms/step - loss: 0.0475 - accuracy: 0.9872 - val_loss: 0.0783 - val_accuracy: 0.9764\n",
            "Epoch 22/30\n",
            "1719/1719 [==============================] - 6s 4ms/step - loss: 0.0448 - accuracy: 0.9882 - val_loss: 0.0767 - val_accuracy: 0.9770\n",
            "Epoch 23/30\n",
            "1719/1719 [==============================] - 6s 4ms/step - loss: 0.0418 - accuracy: 0.9892 - val_loss: 0.0755 - val_accuracy: 0.9768\n",
            "Epoch 24/30\n",
            "1719/1719 [==============================] - 6s 4ms/step - loss: 0.0395 - accuracy: 0.9899 - val_loss: 0.0738 - val_accuracy: 0.9780\n",
            "Epoch 25/30\n",
            "1719/1719 [==============================] - 6s 4ms/step - loss: 0.0372 - accuracy: 0.9906 - val_loss: 0.0738 - val_accuracy: 0.9774\n",
            "Epoch 26/30\n",
            "1719/1719 [==============================] - 6s 4ms/step - loss: 0.0350 - accuracy: 0.9913 - val_loss: 0.0763 - val_accuracy: 0.9788\n",
            "Epoch 27/30\n",
            "1719/1719 [==============================] - 6s 4ms/step - loss: 0.0328 - accuracy: 0.9920 - val_loss: 0.0721 - val_accuracy: 0.9802\n",
            "Epoch 28/30\n",
            "1719/1719 [==============================] - 6s 4ms/step - loss: 0.0308 - accuracy: 0.9926 - val_loss: 0.0734 - val_accuracy: 0.9776\n",
            "Epoch 29/30\n",
            "1719/1719 [==============================] - 6s 4ms/step - loss: 0.0291 - accuracy: 0.9932 - val_loss: 0.0702 - val_accuracy: 0.9790\n",
            "Epoch 30/30\n",
            "1719/1719 [==============================] - 6s 4ms/step - loss: 0.0274 - accuracy: 0.9939 - val_loss: 0.0709 - val_accuracy: 0.9782\n"
          ]
        },
        {
          "data": {
            "text/plain": [
              "<keras.callbacks.History at 0x7f1d19b67910>"
            ]
          },
          "execution_count": 38,
          "metadata": {},
          "output_type": "execute_result"
        }
      ],
      "source": [
        "EPOCHS = 30\n",
        "VALIDATION = (X_valid, y_valid)\n",
        "\n",
        "model_clf.fit(X_train, y_train, epochs=EPOCHS, validation_data=VALIDATION)"
      ]
    },
    {
      "cell_type": "code",
      "execution_count": null,
      "metadata": {
        "colab": {
          "base_uri": "https://localhost:8080/"
        },
        "id": "zxNLMlnx3bWd",
        "outputId": "cf8e30be-5ed4-4ef4-a9c3-5a357783a56a"
      },
      "outputs": [
        {
          "name": "stdout",
          "output_type": "stream",
          "text": [
            "313/313 [==============================] - 1s 3ms/step - loss: 0.0705 - accuracy: 0.9774\n"
          ]
        },
        {
          "data": {
            "text/plain": [
              "[0.07052379846572876, 0.977400004863739]"
            ]
          },
          "execution_count": 39,
          "metadata": {},
          "output_type": "execute_result"
        }
      ],
      "source": [
        "model_clf.evaluate(X_test, y_test)"
      ]
    },
    {
      "cell_type": "code",
      "execution_count": null,
      "metadata": {
        "id": "YG7ba-kG7iU7"
      },
      "outputs": [],
      "source": [
        "model_clf.save(\"test.h5\")"
      ]
    },
    {
      "cell_type": "code",
      "execution_count": null,
      "metadata": {
        "colab": {
          "base_uri": "https://localhost:8080/"
        },
        "id": "u3jHs8rer848",
        "outputId": "3ef6c21a-7b02-42ca-bd3d-b93a279ce52c"
      },
      "outputs": [
        {
          "data": {
            "text/plain": [
              "array([[0.   , 0.   , 0.   , 0.001, 0.   , 0.   , 0.   , 0.999, 0.   ,\n",
              "        0.   ],\n",
              "       [0.   , 0.   , 1.   , 0.   , 0.   , 0.   , 0.   , 0.   , 0.   ,\n",
              "        0.   ],\n",
              "       [0.   , 0.997, 0.   , 0.   , 0.   , 0.   , 0.   , 0.002, 0.001,\n",
              "        0.   ]], dtype=float32)"
            ]
          },
          "execution_count": 41,
          "metadata": {},
          "output_type": "execute_result"
        }
      ],
      "source": [
        "X_new = X_test[:3]\n",
        "\n",
        "y_prob = model_clf.predict(X_new)\n",
        "y_prob.round(3)"
      ]
    },
    {
      "cell_type": "code",
      "execution_count": null,
      "metadata": {
        "colab": {
          "base_uri": "https://localhost:8080/",
          "height": 284
        },
        "id": "2wY2jEhY4Sgq",
        "outputId": "31467fc5-14ee-4d8a-c575-9f96c9414d84"
      },
      "outputs": [
        {
          "data": {
            "text/plain": [
              "<matplotlib.image.AxesImage at 0x7f1d182ee710>"
            ]
          },
          "execution_count": 42,
          "metadata": {},
          "output_type": "execute_result"
        },
        {
          "data": {
            "image/png": "[encoded data removed]",
            "text/plain": [
              "<Figure size 432x288 with 1 Axes>"
            ]
          },
          "metadata": {},
          "output_type": "display_data"
        }
      ],
      "source": [
        "plt.imshow(X_new[0], cmap=\"binary\")"
      ]
    },
    {
      "cell_type": "code",
      "execution_count": null,
      "metadata": {
        "colab": {
          "base_uri": "https://localhost:8080/"
        },
        "id": "zjHMGe_C4ZWf",
        "outputId": "04b8410f-5a8b-42c8-f313-4563926628b7"
      },
      "outputs": [
        {
          "data": {
            "text/plain": [
              "array([7, 2, 1])"
            ]
          },
          "execution_count": 43,
          "metadata": {},
          "output_type": "execute_result"
        }
      ],
      "source": [
        "Y_pred= np.argmax(y_prob, axis=-1)\n",
        "Y_pred"
      ]
    },
    {
      "cell_type": "code",
      "execution_count": null,
      "metadata": {
        "colab": {
          "base_uri": "https://localhost:8080/",
          "height": 809
        },
        "id": "2X4HI4xc4r9t",
        "outputId": "70860336-74c0-4b18-ea50-6a2832578a2d"
      },
      "outputs": [
        {
          "data": {
            "image/png": "[encoded data removed]",
            "text/plain": [
              "<Figure size 432x288 with 1 Axes>"
            ]
          },
          "metadata": {},
          "output_type": "display_data"
        },
        {
          "data": {
            "image/png": "[encoded data removed]",
            "text/plain": [
              "<Figure size 432x288 with 1 Axes>"
            ]
          },
          "metadata": {},
          "output_type": "display_data"
        },
        {
          "data": {
            "image/png": "[encoded data removed]",
            "text/plain": [
              "<Figure size 432x288 with 1 Axes>"
            ]
          },
          "metadata": {},
          "output_type": "display_data"
        }
      ],
      "source": [
        "for img_Array, pred, actual in zip(X_new, Y_pred, y_test[:3]):\n",
        "  plt.imshow(img_Array, cmap=\"binary\")\n",
        "  plt.title(f\"predicted:{pred},  Actual: {actual}\")\n",
        "  plt.show()"
      ]
    },
    {
      "cell_type": "code",
      "execution_count": null,
      "metadata": {
        "id": "wEiPhDTQ4w51"
      },
      "outputs": [],
      "source": [
        "dt = {4:56,8:90}\n"
      ]
    },
    {
      "cell_type": "code",
      "execution_count": null,
      "metadata": {
        "id": "58DDAx0A9h1L"
      },
      "outputs": [],
      "source": [
        "t1= [7,1,5,3,6,4]"
      ]
    },
    {
      "cell_type": "code",
      "execution_count": null,
      "metadata": {
        "id": "0h21udWCHGDk"
      },
      "outputs": [],
      "source": [
        "def maxProfit(prices):\n",
        "        \n",
        "    \n",
        "    current = 0\n",
        "    profit = []\n",
        "    while(current<len(prices)):\n",
        "\n",
        "      mini = 0\n",
        "      for i in range(len(prices[:current+1])):\n",
        "        if prices[i]< prices[mini]:\n",
        "            mini = i\n",
        "      arr = prices[mini:current+1]\n",
        "      current += 1\n",
        "      profit.append(max(arr)-prices[mini])\n",
        "    return max(profit)"
      ]
    },
    {
      "cell_type": "code",
      "execution_count": null,
      "metadata": {
        "colab": {
          "base_uri": "https://localhost:8080/"
        },
        "id": "3s1KZcr0HHCr",
        "outputId": "c87268dd-6c0a-401d-ae47-14278ebc0132"
      },
      "outputs": [
        {
          "name": "stdout",
          "output_type": "stream",
          "text": [
            "[7]  0\n",
            "[1]  1\n",
            "[1, 5]  1\n",
            "[1, 5, 3]  1\n",
            "[1, 5, 3, 6]  1\n",
            "[1, 5, 3, 6, 4]  1\n",
            "[0, 0, 4, 4, 5, 5]\n"
          ]
        },
        {
          "data": {
            "text/plain": [
              "5"
            ]
          },
          "execution_count": 24,
          "metadata": {},
          "output_type": "execute_result"
        }
      ],
      "source": [
        "maxProfit(t1)"
      ]
    },
    {
      "cell_type": "code",
      "execution_count": null,
      "metadata": {
        "id": "jDT7EF4wK-k0"
      },
      "outputs": [],
      "source": [
        "#we can use TensorBoard to visualise\n",
        "#write images into the TensorBoard for visualisation\n"
      ]
    }
  ],
  "metadata": {
    "accelerator": "GPU",
    "colab": {
      "name": "demo_tf_keras.ipynb",
      "provenance": [],
      "mount_file_id": "19j4zmaD-8oMRqQvJVnDdAhxNH3oj66JA",
      "authorship_tag": "ABX9TyNAcdZ/yUurZwbDsU6bqF1m",
      "include_colab_link": true
    },
    "kernelspec": {
      "display_name": "Python 3",
      "name": "python3"
    },
    "language_info": {
      "name": "python"
    }
  },
  "nbformat": 4,
  "nbformat_minor": 0
}